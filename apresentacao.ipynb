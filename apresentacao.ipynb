{
 "cells": [
  {
   "cell_type": "markdown",
   "metadata": {},
   "source": [
    "![alt text](figs/logoLEFT.png \"CLDF\") | CÂMARA LEGISLATIVA DO DISTRITO FEDERAL | ![alt text](figs/logoRIGHT.png \"CLDF\")\n",
    "--- | :---: | ---\n",
    "| **COORDENADORIA DE MODERNIZAÇÃO E INFORMÁTICA - CMI** | \n",
    "| **OFICINA ASI/LABHINOVA** | \n",
    "| **ANÁLISE EXPLORATÓRIA DE DADOS ABERTOS USANDO PYTHON** | "
   ]
  },
  {
   "cell_type": "markdown",
   "metadata": {},
   "source": [
    "# Tutorial relâmpago de jupyter-notebook\n",
    "\n",
    " ![alt text](figs/jupyter.png \"Jupyter Notebook\")\n",
    "\n",
    "## Olá! Esse é um jupyter-notebook! \n",
    "Jupyter é uma plataforma de kernels, que são sequências de células de códigos de programação, podendo conter ainda elementos em html. Ao se ver o resultado de uma mistura organizada de Python e html, fica fácil de entender porquê utilizamos kernels para tutoriais de ciência de dados.\n",
    "\n",
    "Além disso, você provavelmente está rodando o juputer-notebook por meio do \"Binder\". Binder é usado para criar ambientes de computação temporários que podem ser compartilhados com diversos usuários! Isso é perfeito para oficinas!\n",
    "## Mas chega de papo e vamos ao que interessa: Te ensinar como navegar no notebook!\n",
    "Basicamente, você deve entender como executar o código python dentro de uma célula.\n",
    "\n",
    "Para fazer isso, clique na célula e execute o comando \"Run\" ou use a combinação de teclas \"SHIFT + ENTER\"."
   ]
  },
  {
   "cell_type": "code",
   "execution_count": 3,
   "metadata": {
    "scrolled": true
   },
   "outputs": [
    {
     "name": "stdout",
     "output_type": "stream",
     "text": [
      "Olá mundo\n"
     ]
    }
   ],
   "source": [
    "variavel = 'Olá Mundo'\n",
    "print(variavel)"
   ]
  },
  {
   "cell_type": "markdown",
   "metadata": {},
   "source": [
    "# Se você viu \"Olá Mundo\" então você executou seu primeiro código. \n",
    "\n",
    "# Vamos continuar o curso?\n",
    "\n",
    "# Não se afobe! Quando o professor autorizar acesse no link abaixo:\n",
    "\n",
    "## [Acessando Dados Abertos por meio de uma API](etapas/json/json.ipynb)"
   ]
  }
 ],
 "metadata": {
  "kernelspec": {
   "display_name": "Python 3",
   "language": "python",
   "name": "python3"
  },
  "language_info": {
   "codemirror_mode": {
    "name": "ipython",
    "version": 3
   },
   "file_extension": ".py",
   "mimetype": "text/x-python",
   "name": "python",
   "nbconvert_exporter": "python",
   "pygments_lexer": "ipython3",
   "version": "3.7.3"
  }
 },
 "nbformat": 4,
 "nbformat_minor": 4
}
