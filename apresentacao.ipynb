{
 "cells": [
  {
   "cell_type": "markdown",
   "metadata": {},
   "source": [
    "![alt text](figs/logoLEFT.png \"CLDF\") | CÂMARA LEGISLATIVA DO DISTRITO FEDERAL | ![alt text](figs/logoRIGHT.png \"CLDF\")\n",
    "--- | :---: | ---\n",
    "| **COORDENADORIA DE MODERNIZAÇÃO E INFORMÁTICA - CMI** | \n",
    "| **OFICINA ASI/LABHINOVA** | \n",
    "| **ANÁLISE EXPLORATÓRIA DE DADOS ABERTOS USANDO PYTHON** | "
   ]
  },
  {
   "cell_type": "markdown",
   "metadata": {},
   "source": [
    "# 1 - Curso relâmpago de jupyter-notebook\n",
    "\n",
    "## 1.1 - Olá! Esse é um jupyter-notebook! \n",
    "\n",
    "Ele pode estar rodando direto do mybinger.org, ou não, mas isso não importa no momento.\n",
    "\n",
    "## 1.2 - Vamos ao que interessa que é te ensinar rapidamente como navegar no notebook:\n",
    "### Basicamente, você deve entender como executar o código python dentro de uma célula.\n",
    "### Para fazer isso, clique na célula e execute o comando \"Run\" ou use a combinação de teclas \"SHIFT + ENTER\".\n",
    "\n",
    "## 2 - Teste isso agora na célula abaixo. \n",
    "### 2.1 - Com o mouse, selecione a célula abaixo clicando em cima dela. \n",
    "### 2.2 - Depois mande executar!"
   ]
  },
  {
   "cell_type": "code",
   "execution_count": 3,
   "metadata": {},
   "outputs": [
    {
     "name": "stdout",
     "output_type": "stream",
     "text": [
      "Olá mundo\n"
     ]
    }
   ],
   "source": [
    "variavel = 'Olá Mundo'\n",
    "print(variavel)"
   ]
  },
  {
   "cell_type": "markdown",
   "metadata": {},
   "source": [
    "# Se você viu \"Olá Mundo\" então você executou seu primeiro código. \n",
    "\n",
    "# Vamos continuar o curso?\n",
    "\n",
    "# Não se afobe! Quando o professor autorizar acesse no link abaixo:\n",
    "\n",
    "## [Acessando Dados Abertos por meio de uma API REST](etapas/json/json.ipynb)"
   ]
  },
  {
   "cell_type": "code",
   "execution_count": null,
   "metadata": {},
   "outputs": [],
   "source": []
  }
 ],
 "metadata": {
  "kernelspec": {
   "display_name": "Python 3",
   "language": "python",
   "name": "python3"
  },
  "language_info": {
   "codemirror_mode": {
    "name": "ipython",
    "version": 3
   },
   "file_extension": ".py",
   "mimetype": "text/x-python",
   "name": "python",
   "nbconvert_exporter": "python",
   "pygments_lexer": "ipython3",
   "version": "3.7.3"
  }
 },
 "nbformat": 4,
 "nbformat_minor": 4
}
