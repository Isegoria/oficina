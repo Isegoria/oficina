{
 "cells": [
  {
   "cell_type": "markdown",
   "metadata": {},
   "source": [
    "![alt text](../../figs/logoLEFT.png \"CLDF\") | CÂMARA LEGISLATIVA DO DISTRITO FEDERAL | ![alt text](../../figs/logoRIGHT.png \"CLDF\")\n",
    "--- | :---: | ---\n",
    "| **COORDENADORIA DE MODERNIZAÇÃO E INFORMÁTICA - CMI** | \n",
    "| **OFICINA ASI/LABHINOVA** | \n",
    "| **ANÁLISE EXPLORATÓRIA DE DADOS ABERTOS USANDO PYTHON** | "
   ]
  },
  {
   "cell_type": "markdown",
   "metadata": {},
   "source": [
    "# Acessando Dados Abertos por meio de uma API"
   ]
  },
  {
   "cell_type": "markdown",
   "metadata": {},
   "source": [
    "## Exemplo de fonte de dados abertos por meio de uma API:"
   ]
  },
  {
   "cell_type": "markdown",
   "metadata": {},
   "source": [
    "Por exemplo, o Portal da Transparência do Governo Federal fornece dados abertos através de uma API que pode ser acessada no site: \n",
    "\n",
    "http://www.transparencia.gov.br/swagger-ui.html"
   ]
  },
  {
   "cell_type": "markdown",
   "metadata": {},
   "source": [
    "O exemplo de dados em formato JSON foi obtido dessa API em:\n",
    "\n",
    "http://www.transparencia.gov.br/swagger-ui.html#!/Bolsa32Fam237lia/bolsaFamiliaPorMunicipioUsingGET    "
   ]
  },
  {
   "cell_type": "markdown",
   "metadata": {},
   "source": [
    "Nesse momento, o instrutor deve mostrar alguns exemplos de requisições feitas à API direto no browser como por exemplo a requisição abaixo que foi usada nos slides para apresentar o formato de dados JSON: "
   ]
  },
  {
   "cell_type": "markdown",
   "metadata": {},
   "source": [
    "http://www.transparencia.gov.br/api-de-dados/bolsa-familia-por-municipio?mesAno=202001&codigoIbge=5300108&pagina=1"
   ]
  },
  {
   "cell_type": "markdown",
   "metadata": {},
   "source": [
    "## Importante entender algumas coisas:"
   ]
  },
  {
   "cell_type": "markdown",
   "metadata": {},
   "source": [
    "#### 1 - De onde descobrirmos o código para o Distrito Federal? \n",
    "Isso é fornecido pelo próprio site do IBGE em: https://www.ibge.gov.br/explica/codigos-dos-municipios.php#DF"
   ]
  },
  {
   "cell_type": "markdown",
   "metadata": {},
   "source": [
    "#### 2 - Importante salientar que a API pede a data no formato YYYYMM \n",
    "Então pedimos a data 202001 que significa que queremos os dados relativo ao mês de janeiro de 2020.\n",
    "O instrutor pode mostrar outras requisições JSON em tempo real mudando as datas ou mesmo pedindo dados de outros municípios."
   ]
  },
  {
   "cell_type": "markdown",
   "metadata": {},
   "source": [
    "Por exemplo, alguns códigos de municípios:\n",
    "    - Pirenópolis - 5217302 \n",
    "    - Cocalzinho de Goiás - 5205513\n",
    "    - Caldas Novas - 5204508"
   ]
  },
  {
   "cell_type": "markdown",
   "metadata": {},
   "source": [
    "E alguns exemplos de requisições para esses municípios:\n",
    "\n",
    "http://www.transparencia.gov.br/api-de-dados/bolsa-familia-por-municipio?mesAno=202001&codigoIbge=5217302&pagina=1\n",
    "\n",
    "http://www.transparencia.gov.br/api-de-dados/bolsa-familia-por-municipio?mesAno=202001&codigoIbge=5205513&pagina=1\n",
    "\n",
    "http://www.transparencia.gov.br/api-de-dados/bolsa-familia-por-municipio?mesAno=202001&codigoIbge=5204508&pagina=1"
   ]
  },
  {
   "cell_type": "markdown",
   "metadata": {},
   "source": [
    "# Ok, mas e agora como faço isso por meio de código python?"
   ]
  },
  {
   "cell_type": "markdown",
   "metadata": {},
   "source": [
    "#### Primeiro vamos precisar importar algumas bilbiotecas que farão o trabalho duro pra gente:"
   ]
  },
  {
   "cell_type": "code",
   "execution_count": 1,
   "metadata": {
    "scrolled": true
   },
   "outputs": [
    {
     "name": "stdout",
     "output_type": "stream",
     "text": [
      "Bibliotecas importadas!\n"
     ]
    }
   ],
   "source": [
    "from urllib.request import Request, urlopen\n",
    "import json\n",
    "print('Bibliotecas importadas!')"
   ]
  },
  {
   "cell_type": "markdown",
   "metadata": {},
   "source": [
    "#### Se você não executou o código da célula acima, execute! Do contrário, os códigos abaixo não vão funcionar! Clique na célula acima e clique no comando \"Run\" ou pressione \"SHIFT + ENTER\" no teclado."
   ]
  },
  {
   "cell_type": "markdown",
   "metadata": {},
   "source": [
    "#### Em seguida, vamos programar um pouquinho. \n",
    "O código abaixo define uma função que poderemos usar em seguida.\n",
    "O que ela faz é criar uma função que faz a requisição JSON e devolve o objeto JSON para você.\n",
    "Você passa como os parâmetros strMesAno e strCodIBGE e ela devolve o objeto JSON."
   ]
  },
  {
   "cell_type": "code",
   "execution_count": 2,
   "metadata": {},
   "outputs": [
    {
     "name": "stdout",
     "output_type": "stream",
     "text": [
      "Função criada!\n"
     ]
    }
   ],
   "source": [
    "siteApi = 'http://www.transparencia.gov.br/api-de-dados'\n",
    "\n",
    "def getJsonData(strMesAno,strCodIBGE):\n",
    "    method='bolsa-familia-por-municipio?mesAno={0}&codigoIbge={1}&pagina={2}'.format(strMesAno,strCodIBGE,1)\n",
    "    req = Request(siteApi + '/' + method, headers={'User-Agent': 'Mozilla/5.0'})\n",
    "    JSON = urlopen(req).read()\n",
    "    return json.loads(JSON)\n",
    "\n",
    "print('Função criada!')"
   ]
  },
  {
   "cell_type": "markdown",
   "metadata": {},
   "source": [
    "#### Agora vamos usar a função! \n",
    "\n",
    "Por exemplo, vamos pegar os dados de Pirenopolis de Dezembro de 2018. \n",
    "Que tal? "
   ]
  },
  {
   "cell_type": "code",
   "execution_count": 3,
   "metadata": {},
   "outputs": [],
   "source": [
    "dadosBolsaFamiliaPiri = getJsonData(201812,5217302)"
   ]
  },
  {
   "cell_type": "markdown",
   "metadata": {},
   "source": [
    "#### Agora vamos dar uma olhada no conteúdo da variável dadosBolsaFamiliaPiri:"
   ]
  },
  {
   "cell_type": "code",
   "execution_count": 4,
   "metadata": {},
   "outputs": [
    {
     "data": {
      "text/plain": [
       "[{'id': 66610001,\n",
       "  'dataReferencia': '01/12/2018',\n",
       "  'municipio': {'codigoIBGE': '5217302',\n",
       "   'nomeIBGE': 'PIRENÓPOLIS',\n",
       "   'nomeIBGEsemAcento': 'PIRENOPOLIS',\n",
       "   'pais': 'BRASIL',\n",
       "   'uf': {'sigla': 'GO', 'nome': 'GOIÁS'}},\n",
       "  'tipo': {'id': 1,\n",
       "   'descricao': 'Bolsa Família',\n",
       "   'descricaoDetalhada': 'Bolsa Família'},\n",
       "  'valor': 161577.0,\n",
       "  'quantidadeBeneficiados': 1240}]"
      ]
     },
     "execution_count": 4,
     "metadata": {},
     "output_type": "execute_result"
    }
   ],
   "source": [
    "dadosBolsaFamiliaPiri"
   ]
  },
  {
   "cell_type": "markdown",
   "metadata": {},
   "source": [
    "#### De exercício, quero que pegue os dados de Cocalzinho de Goiás de janeiro de 2020. \n",
    "\n",
    "Consegue fazer isso sozinho?\n",
    "Use a célula a seguir para fazer isso. Vou deixar parte do comando pronto para você:"
   ]
  },
  {
   "cell_type": "code",
   "execution_count": 5,
   "metadata": {},
   "outputs": [
    {
     "ename": "SyntaxError",
     "evalue": "invalid syntax (<ipython-input-5-869648d8cdb6>, line 1)",
     "output_type": "error",
     "traceback": [
      "\u001b[0;36m  File \u001b[0;32m\"<ipython-input-5-869648d8cdb6>\"\u001b[0;36m, line \u001b[0;32m1\u001b[0m\n\u001b[0;31m    dadosBolsaFamiliaCocalzinho = getJsonData(?,?)\u001b[0m\n\u001b[0m                                              ^\u001b[0m\n\u001b[0;31mSyntaxError\u001b[0m\u001b[0;31m:\u001b[0m invalid syntax\n"
     ]
    }
   ],
   "source": [
    "dadosBolsaFamiliaCocalzinho = getJsonData(?,?)\n",
    "dadosBolsaFamiliaCocalzinho"
   ]
  },
  {
   "cell_type": "markdown",
   "metadata": {},
   "source": [
    "#### Nesse momento o instrutor deveria ensinar como acessar uma determinada informação do objeto JSON fornecido."
   ]
  },
  {
   "cell_type": "markdown",
   "metadata": {},
   "source": [
    "Por exemplo: O campo \"valor\":"
   ]
  },
  {
   "cell_type": "code",
   "execution_count": 6,
   "metadata": {},
   "outputs": [
    {
     "name": "stdout",
     "output_type": "stream",
     "text": [
      "161577.0\n"
     ]
    }
   ],
   "source": [
    "print(dadosBolsaFamiliaPiri[0]['valor'])"
   ]
  },
  {
   "cell_type": "markdown",
   "metadata": {},
   "source": [
    "Outro exemplo: O campo \"município\":"
   ]
  },
  {
   "cell_type": "code",
   "execution_count": 7,
   "metadata": {},
   "outputs": [
    {
     "name": "stdout",
     "output_type": "stream",
     "text": [
      "{'codigoIBGE': '5217302', 'nomeIBGE': 'PIRENÓPOLIS', 'nomeIBGEsemAcento': 'PIRENOPOLIS', 'pais': 'BRASIL', 'uf': {'sigla': 'GO', 'nome': 'GOIÁS'}}\n"
     ]
    }
   ],
   "source": [
    "print(dadosBolsaFamiliaPiri[0]['municipio'])"
   ]
  },
  {
   "cell_type": "markdown",
   "metadata": {},
   "source": [
    "E dentro do municipio, o campo \"nomeIBGE\":"
   ]
  },
  {
   "cell_type": "code",
   "execution_count": 8,
   "metadata": {},
   "outputs": [
    {
     "name": "stdout",
     "output_type": "stream",
     "text": [
      "PIRENÓPOLIS\n"
     ]
    }
   ],
   "source": [
    "print(dadosBolsaFamiliaPiri[0]['municipio']['nomeIBGE'])"
   ]
  },
  {
   "cell_type": "markdown",
   "metadata": {},
   "source": [
    "# Legal, mas e se eu quiser obter vários dados? \n",
    "\n",
    "## Aí temos que programar! \n",
    "\n",
    "#### Mas para facilitar o andamento da oficina, nós já criamos o programa que faz uma requisição para cada mês de cada ano desde 2013 até 2020 para Brasília e gerou um arquivo CSV com esses dados! \n",
    "\n",
    "#### Dessa forma, na próxima etapa da oficina, vamos aprender a ler esse arquivo CSV (processo idêntico para se ler qualquer arquivo desse tipo) e, em seguida, poderemos fazer algumas análises nesses dados."
   ]
  },
  {
   "cell_type": "markdown",
   "metadata": {},
   "source": [
    "# Quando o instrutor autorizar, você vai seguir esse link aqui:"
   ]
  },
  {
   "cell_type": "markdown",
   "metadata": {},
   "source": [
    "## [Explorando dados de um arquivo csv](../csv/csv.ipynb)"
   ]
  }
 ],
 "metadata": {
  "kernelspec": {
   "display_name": "Python 3",
   "language": "python",
   "name": "python3"
  },
  "language_info": {
   "codemirror_mode": {
    "name": "ipython",
    "version": 3
   },
   "file_extension": ".py",
   "mimetype": "text/x-python",
   "name": "python",
   "nbconvert_exporter": "python",
   "pygments_lexer": "ipython3",
   "version": "3.7.3"
  }
 },
 "nbformat": 4,
 "nbformat_minor": 4
}
