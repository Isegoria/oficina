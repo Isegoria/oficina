{
 "cells": [
  {
   "cell_type": "markdown",
   "metadata": {},
   "source": [
    "![alt text](../../figs/logoLEFT.png \"CLDF\") | CÂMARA LEGISLATIVA DO DISTRITO FEDERAL | ![alt text](../../figs/logoRIGHT.png \"CLDF\")\n",
    "--- | :---: | ---\n",
    "| **COORDENADORIA DE MODERNIZAÇÃO E INFORMÁTICA - CMI** | \n",
    "| **OFICINA ASI/LABHINOVA** | \n",
    "| **ANÁLISE EXPLORATÓRIA DE DADOS ABERTOS USANDO PYTHON** | "
   ]
  },
  {
   "cell_type": "markdown",
   "metadata": {},
   "source": [
    "# Plotando e Visualizando Gráficos Usando Bokeh"
   ]
  },
  {
   "cell_type": "markdown",
   "metadata": {},
   "source": [
    "#### Cada jupyter-notebook possui \"sua própria memória\" assim objetos definidos em um não são acessíveis em outro. Ou seja, se você tentar acessar nosso \"DataFrame\" definido no notebook anterior, o notebook atual não vai reconhecer. Olha só:"
   ]
  },
  {
   "cell_type": "code",
   "execution_count": 1,
   "metadata": {},
   "outputs": [
    {
     "ename": "NameError",
     "evalue": "name 'df' is not defined",
     "output_type": "error",
     "traceback": [
      "\u001b[0;31m---------------------------------------------------------------------------\u001b[0m",
      "\u001b[0;31mNameError\u001b[0m                                 Traceback (most recent call last)",
      "\u001b[0;32m<ipython-input-1-00cf07b74dcd>\u001b[0m in \u001b[0;36m<module>\u001b[0;34m\u001b[0m\n\u001b[0;32m----> 1\u001b[0;31m \u001b[0mdf\u001b[0m\u001b[0;34m\u001b[0m\u001b[0;34m\u001b[0m\u001b[0m\n\u001b[0m",
      "\u001b[0;31mNameError\u001b[0m: name 'df' is not defined"
     ]
    }
   ],
   "source": [
    "df"
   ]
  },
  {
   "cell_type": "markdown",
   "metadata": {},
   "source": [
    "#### Então precisamos carregar tudo de novo para a memória. Sorte que já adiantamos isso para você na próxima linha que importa a biblioteca pandas, lê o arquivo csv e ainda cria as colunas \"divisao\" e \"divisaoMaiorQue180\" criadas na etapa anterior da oficina:"
   ]
  },
  {
   "cell_type": "code",
   "execution_count": 2,
   "metadata": {},
   "outputs": [
    {
     "data": {
      "text/html": [
       "<div>\n",
       "<style scoped>\n",
       "    .dataframe tbody tr th:only-of-type {\n",
       "        vertical-align: middle;\n",
       "    }\n",
       "\n",
       "    .dataframe tbody tr th {\n",
       "        vertical-align: top;\n",
       "    }\n",
       "\n",
       "    .dataframe thead th {\n",
       "        text-align: right;\n",
       "    }\n",
       "</style>\n",
       "<table border=\"1\" class=\"dataframe\">\n",
       "  <thead>\n",
       "    <tr style=\"text-align: right;\">\n",
       "      <th></th>\n",
       "      <th>id</th>\n",
       "      <th>dataReferencia</th>\n",
       "      <th>codIBGE</th>\n",
       "      <th>nomeIBGE</th>\n",
       "      <th>UFSigla</th>\n",
       "      <th>UFNome</th>\n",
       "      <th>valor</th>\n",
       "      <th>qtdBeneficiados</th>\n",
       "      <th>divisao</th>\n",
       "      <th>divisaoMaiorQue180</th>\n",
       "    </tr>\n",
       "  </thead>\n",
       "  <tbody>\n",
       "    <tr>\n",
       "      <th>0</th>\n",
       "      <td>75908792</td>\n",
       "      <td>01/01/2013</td>\n",
       "      <td>5300108</td>\n",
       "      <td>BRASÍLIA</td>\n",
       "      <td>DF</td>\n",
       "      <td>DISTRITO FEDERAL</td>\n",
       "      <td>11450358.0</td>\n",
       "      <td>63239</td>\n",
       "      <td>181.064818</td>\n",
       "      <td>True</td>\n",
       "    </tr>\n",
       "    <tr>\n",
       "      <th>1</th>\n",
       "      <td>72208975</td>\n",
       "      <td>01/02/2013</td>\n",
       "      <td>5300108</td>\n",
       "      <td>BRASÍLIA</td>\n",
       "      <td>DF</td>\n",
       "      <td>DISTRITO FEDERAL</td>\n",
       "      <td>11034212.0</td>\n",
       "      <td>61121</td>\n",
       "      <td>180.530620</td>\n",
       "      <td>True</td>\n",
       "    </tr>\n",
       "    <tr>\n",
       "      <th>2</th>\n",
       "      <td>63909551</td>\n",
       "      <td>01/03/2013</td>\n",
       "      <td>5300108</td>\n",
       "      <td>BRASÍLIA</td>\n",
       "      <td>DF</td>\n",
       "      <td>DISTRITO FEDERAL</td>\n",
       "      <td>11435012.0</td>\n",
       "      <td>61189</td>\n",
       "      <td>186.880191</td>\n",
       "      <td>True</td>\n",
       "    </tr>\n",
       "    <tr>\n",
       "      <th>3</th>\n",
       "      <td>74709431</td>\n",
       "      <td>01/04/2013</td>\n",
       "      <td>5300108</td>\n",
       "      <td>BRASÍLIA</td>\n",
       "      <td>DF</td>\n",
       "      <td>DISTRITO FEDERAL</td>\n",
       "      <td>10762080.0</td>\n",
       "      <td>59505</td>\n",
       "      <td>180.860096</td>\n",
       "      <td>True</td>\n",
       "    </tr>\n",
       "    <tr>\n",
       "      <th>4</th>\n",
       "      <td>73009570</td>\n",
       "      <td>01/05/2013</td>\n",
       "      <td>5300108</td>\n",
       "      <td>BRASÍLIA</td>\n",
       "      <td>DF</td>\n",
       "      <td>DISTRITO FEDERAL</td>\n",
       "      <td>11761262.0</td>\n",
       "      <td>67777</td>\n",
       "      <td>173.528808</td>\n",
       "      <td>False</td>\n",
       "    </tr>\n",
       "  </tbody>\n",
       "</table>\n",
       "</div>"
      ],
      "text/plain": [
       "         id dataReferencia  codIBGE  nomeIBGE UFSigla            UFNome  \\\n",
       "0  75908792     01/01/2013  5300108  BRASÍLIA      DF  DISTRITO FEDERAL   \n",
       "1  72208975     01/02/2013  5300108  BRASÍLIA      DF  DISTRITO FEDERAL   \n",
       "2  63909551     01/03/2013  5300108  BRASÍLIA      DF  DISTRITO FEDERAL   \n",
       "3  74709431     01/04/2013  5300108  BRASÍLIA      DF  DISTRITO FEDERAL   \n",
       "4  73009570     01/05/2013  5300108  BRASÍLIA      DF  DISTRITO FEDERAL   \n",
       "\n",
       "        valor  qtdBeneficiados     divisao  divisaoMaiorQue180  \n",
       "0  11450358.0            63239  181.064818                True  \n",
       "1  11034212.0            61121  180.530620                True  \n",
       "2  11435012.0            61189  186.880191                True  \n",
       "3  10762080.0            59505  180.860096                True  \n",
       "4  11761262.0            67777  173.528808               False  "
      ]
     },
     "execution_count": 2,
     "metadata": {},
     "output_type": "execute_result"
    }
   ],
   "source": [
    "import pandas as pd\n",
    "df = pd.read_csv('bolsafamilia.csv')\n",
    "df['divisao'] = df['valor'] / df['qtdBeneficiados']\n",
    "df['divisaoMaiorQue180'] = df['divisao'] > 180\n",
    "df.head()"
   ]
  },
  {
   "cell_type": "markdown",
   "metadata": {},
   "source": [
    "#### Ótimo! Agora podemos continuar..."
   ]
  },
  {
   "cell_type": "markdown",
   "metadata": {},
   "source": [
    "VOU ESTUDAR UM POUCO MAIS ANTES DE CONTINUAR ISSO"
   ]
  }
 ],
 "metadata": {
  "kernelspec": {
   "display_name": "Python 3",
   "language": "python",
   "name": "python3"
  },
  "language_info": {
   "codemirror_mode": {
    "name": "ipython",
    "version": 3
   },
   "file_extension": ".py",
   "mimetype": "text/x-python",
   "name": "python",
   "nbconvert_exporter": "python",
   "pygments_lexer": "ipython3",
   "version": "3.7.3"
  }
 },
 "nbformat": 4,
 "nbformat_minor": 4
}
