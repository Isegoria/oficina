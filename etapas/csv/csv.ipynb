{
 "cells": [
  {
   "cell_type": "markdown",
   "metadata": {},
   "source": [
    "![alt text](../../figs/logoLEFT.png \"CLDF\") | CÂMARA LEGISLATIVA DO DISTRITO FEDERAL | ![alt text](../../figs/logoRIGHT.png \"CLDF\")\n",
    "--- | :---: | ---\n",
    "| **COORDENADORIA DE MODERNIZAÇÃO E INFORMÁTICA - CMI** | \n",
    "| **OFICINA ASI/LABHINOVA** | \n",
    "| **ANÁLISE EXPLORATÓRIA DE DADOS ABERTOS USANDO PYTHON** | "
   ]
  },
  {
   "cell_type": "markdown",
   "metadata": {},
   "source": [
    "# Acessando Dados Abertos de Arquivos CSV"
   ]
  },
  {
   "cell_type": "markdown",
   "metadata": {},
   "source": [
    "Vamos continuar o curso mostrando como acessar dados abertos de arquivos CSV e também vamos aproveitar para falar um pouco do domínio de Matemática e Estatística do nosso diagrama Venn de Ciência de Dados abaixo, lembra? Não podemos perder o foco!"
   ]
  },
  {
   "cell_type": "markdown",
   "metadata": {},
   "source": [
    "![alt text](../../figs/dsvenn-br-math-peq.png \"Diagrama de Venn de Ciência de Dados ênfatizando Estatística\")"
   ]
  },
  {
   "cell_type": "markdown",
   "metadata": {},
   "source": [
    "#### Uma coisa de cada vez! Primeiro vamos importar as bibliotecas que faremos uso. Lembra do pandas? Esse é o momento de usar essa ferramenta!"
   ]
  },
  {
   "cell_type": "markdown",
   "metadata": {},
   "source": [
    "![alt text](../../figs/pandas.png \"Biblioteca Pandas\")"
   ]
  },
  {
   "cell_type": "markdown",
   "metadata": {},
   "source": [
    "\"Pandas é uma biblioteca de código aberto para análise de dados. Ela dá ao Python a capacidade de trabalhar com dados do tipo planilha, permitindo carregar, manipular, alinhar e combinar dados rapidamente, entre outras funções. Para proporcionar esses recursos mais sofisticados ao Python, o Pandas introduz dois tipos de dados: DataFrame e Series. DataFrame representa os dados de planilha ou retangulares completos, enquanto Series corresponde a uma única coluna do DataFrame. Também podemos pensar em um DataFrame do Pandas como um dicionário ou uma coleção de objetos Series.\"\n",
    "(CHEN, D. Y. Análise de dados com Python e Pandas. Novatec, 2018)"
   ]
  },
  {
   "cell_type": "markdown",
   "metadata": {},
   "source": [
    "#### Vamos importar a biblioteca pandas:"
   ]
  },
  {
   "cell_type": "code",
   "execution_count": 1,
   "metadata": {},
   "outputs": [],
   "source": [
    "import pandas as pd"
   ]
  },
  {
   "cell_type": "markdown",
   "metadata": {},
   "source": [
    "Vou explicar rapidamente o comando acima: Mandamos importar a biblioteca \"pandas\" e damos a ela um apelido \"pd\". Você poderia ter escolhido o apelido que quisesse. Mas tornou-se convenção entre os cientistas de dados que usam essa biblioteca chamá-la assim.  "
   ]
  },
  {
   "cell_type": "markdown",
   "metadata": {},
   "source": [
    "#### Agora vamos usar essa ferramenta! \n",
    "\n",
    "A primeira coisa que faremos será ler o arquivo CSV. Já colocamos o arquivos CSV \"bolsafamilia.csv\" dentro do ambiente computacional que você está usando. "
   ]
  },
  {
   "cell_type": "markdown",
   "metadata": {},
   "source": [
    "#### Então, vamos ler e carregar seus dados:"
   ]
  },
  {
   "cell_type": "code",
   "execution_count": 2,
   "metadata": {},
   "outputs": [],
   "source": [
    "df = pd.read_csv('bolsafamilia.csv')"
   ]
  },
  {
   "cell_type": "markdown",
   "metadata": {},
   "source": [
    "Calma! Vou explicar! O comando \"read_csv\" da ferramenta \"pandas\" que aqui nós apelidamos de \"pd\" lê um arquivo csv e devolve um objeto do tipo \"DataFrame\". \n",
    "\n",
    "\"DataFrame\" é como se fosse uma tabela.\n",
    "\n",
    "Nós então resolvemos armazenar esse objeto \"DataFrame\" numa nova variável que apelidados de \"df\". Não é df de Distrito Federal, é df de Data Frame! "
   ]
  },
  {
   "cell_type": "markdown",
   "metadata": {},
   "source": [
    "#### Para ver o conteúdo do objeto \"df\" criado acima, podemos simplesmente digitar \"df\" e mandar executar. "
   ]
  },
  {
   "cell_type": "code",
   "execution_count": 3,
   "metadata": {},
   "outputs": [
    {
     "data": {
      "text/html": [
       "<div>\n",
       "<style scoped>\n",
       "    .dataframe tbody tr th:only-of-type {\n",
       "        vertical-align: middle;\n",
       "    }\n",
       "\n",
       "    .dataframe tbody tr th {\n",
       "        vertical-align: top;\n",
       "    }\n",
       "\n",
       "    .dataframe thead th {\n",
       "        text-align: right;\n",
       "    }\n",
       "</style>\n",
       "<table border=\"1\" class=\"dataframe\">\n",
       "  <thead>\n",
       "    <tr style=\"text-align: right;\">\n",
       "      <th></th>\n",
       "      <th>id</th>\n",
       "      <th>dataReferencia</th>\n",
       "      <th>codIBGE</th>\n",
       "      <th>nomeIBGE</th>\n",
       "      <th>UFSigla</th>\n",
       "      <th>UFNome</th>\n",
       "      <th>valor</th>\n",
       "      <th>qtdBeneficiados</th>\n",
       "    </tr>\n",
       "  </thead>\n",
       "  <tbody>\n",
       "    <tr>\n",
       "      <th>0</th>\n",
       "      <td>75908792</td>\n",
       "      <td>01/01/2013</td>\n",
       "      <td>5300108</td>\n",
       "      <td>BRASÍLIA</td>\n",
       "      <td>DF</td>\n",
       "      <td>DISTRITO FEDERAL</td>\n",
       "      <td>11450358.0</td>\n",
       "      <td>63239</td>\n",
       "    </tr>\n",
       "    <tr>\n",
       "      <th>1</th>\n",
       "      <td>72208975</td>\n",
       "      <td>01/02/2013</td>\n",
       "      <td>5300108</td>\n",
       "      <td>BRASÍLIA</td>\n",
       "      <td>DF</td>\n",
       "      <td>DISTRITO FEDERAL</td>\n",
       "      <td>11034212.0</td>\n",
       "      <td>61121</td>\n",
       "    </tr>\n",
       "    <tr>\n",
       "      <th>2</th>\n",
       "      <td>63909551</td>\n",
       "      <td>01/03/2013</td>\n",
       "      <td>5300108</td>\n",
       "      <td>BRASÍLIA</td>\n",
       "      <td>DF</td>\n",
       "      <td>DISTRITO FEDERAL</td>\n",
       "      <td>11435012.0</td>\n",
       "      <td>61189</td>\n",
       "    </tr>\n",
       "    <tr>\n",
       "      <th>3</th>\n",
       "      <td>74709431</td>\n",
       "      <td>01/04/2013</td>\n",
       "      <td>5300108</td>\n",
       "      <td>BRASÍLIA</td>\n",
       "      <td>DF</td>\n",
       "      <td>DISTRITO FEDERAL</td>\n",
       "      <td>10762080.0</td>\n",
       "      <td>59505</td>\n",
       "    </tr>\n",
       "    <tr>\n",
       "      <th>4</th>\n",
       "      <td>73009570</td>\n",
       "      <td>01/05/2013</td>\n",
       "      <td>5300108</td>\n",
       "      <td>BRASÍLIA</td>\n",
       "      <td>DF</td>\n",
       "      <td>DISTRITO FEDERAL</td>\n",
       "      <td>11761262.0</td>\n",
       "      <td>67777</td>\n",
       "    </tr>\n",
       "    <tr>\n",
       "      <th>...</th>\n",
       "      <td>...</td>\n",
       "      <td>...</td>\n",
       "      <td>...</td>\n",
       "      <td>...</td>\n",
       "      <td>...</td>\n",
       "      <td>...</td>\n",
       "      <td>...</td>\n",
       "      <td>...</td>\n",
       "    </tr>\n",
       "    <tr>\n",
       "      <th>80</th>\n",
       "      <td>71010608</td>\n",
       "      <td>01/09/2019</td>\n",
       "      <td>5300108</td>\n",
       "      <td>BRASÍLIA</td>\n",
       "      <td>DF</td>\n",
       "      <td>DISTRITO FEDERAL</td>\n",
       "      <td>12459837.0</td>\n",
       "      <td>65270</td>\n",
       "    </tr>\n",
       "    <tr>\n",
       "      <th>81</th>\n",
       "      <td>73009437</td>\n",
       "      <td>01/10/2019</td>\n",
       "      <td>5300108</td>\n",
       "      <td>BRASÍLIA</td>\n",
       "      <td>DF</td>\n",
       "      <td>DISTRITO FEDERAL</td>\n",
       "      <td>12583058.0</td>\n",
       "      <td>65446</td>\n",
       "    </tr>\n",
       "    <tr>\n",
       "      <th>82</th>\n",
       "      <td>69210574</td>\n",
       "      <td>01/11/2019</td>\n",
       "      <td>5300108</td>\n",
       "      <td>BRASÍLIA</td>\n",
       "      <td>DF</td>\n",
       "      <td>DISTRITO FEDERAL</td>\n",
       "      <td>12110463.0</td>\n",
       "      <td>61517</td>\n",
       "    </tr>\n",
       "    <tr>\n",
       "      <th>83</th>\n",
       "      <td>66307873</td>\n",
       "      <td>01/12/2019</td>\n",
       "      <td>5300108</td>\n",
       "      <td>BRASÍLIA</td>\n",
       "      <td>DF</td>\n",
       "      <td>DISTRITO FEDERAL</td>\n",
       "      <td>12284381.0</td>\n",
       "      <td>62034</td>\n",
       "    </tr>\n",
       "    <tr>\n",
       "      <th>84</th>\n",
       "      <td>67007738</td>\n",
       "      <td>01/01/2020</td>\n",
       "      <td>5300108</td>\n",
       "      <td>BRASÍLIA</td>\n",
       "      <td>DF</td>\n",
       "      <td>DISTRITO FEDERAL</td>\n",
       "      <td>12109549.0</td>\n",
       "      <td>61776</td>\n",
       "    </tr>\n",
       "  </tbody>\n",
       "</table>\n",
       "<p>85 rows × 8 columns</p>\n",
       "</div>"
      ],
      "text/plain": [
       "          id dataReferencia  codIBGE  nomeIBGE UFSigla            UFNome  \\\n",
       "0   75908792     01/01/2013  5300108  BRASÍLIA      DF  DISTRITO FEDERAL   \n",
       "1   72208975     01/02/2013  5300108  BRASÍLIA      DF  DISTRITO FEDERAL   \n",
       "2   63909551     01/03/2013  5300108  BRASÍLIA      DF  DISTRITO FEDERAL   \n",
       "3   74709431     01/04/2013  5300108  BRASÍLIA      DF  DISTRITO FEDERAL   \n",
       "4   73009570     01/05/2013  5300108  BRASÍLIA      DF  DISTRITO FEDERAL   \n",
       "..       ...            ...      ...       ...     ...               ...   \n",
       "80  71010608     01/09/2019  5300108  BRASÍLIA      DF  DISTRITO FEDERAL   \n",
       "81  73009437     01/10/2019  5300108  BRASÍLIA      DF  DISTRITO FEDERAL   \n",
       "82  69210574     01/11/2019  5300108  BRASÍLIA      DF  DISTRITO FEDERAL   \n",
       "83  66307873     01/12/2019  5300108  BRASÍLIA      DF  DISTRITO FEDERAL   \n",
       "84  67007738     01/01/2020  5300108  BRASÍLIA      DF  DISTRITO FEDERAL   \n",
       "\n",
       "         valor  qtdBeneficiados  \n",
       "0   11450358.0            63239  \n",
       "1   11034212.0            61121  \n",
       "2   11435012.0            61189  \n",
       "3   10762080.0            59505  \n",
       "4   11761262.0            67777  \n",
       "..         ...              ...  \n",
       "80  12459837.0            65270  \n",
       "81  12583058.0            65446  \n",
       "82  12110463.0            61517  \n",
       "83  12284381.0            62034  \n",
       "84  12109549.0            61776  \n",
       "\n",
       "[85 rows x 8 columns]"
      ]
     },
     "execution_count": 3,
     "metadata": {},
     "output_type": "execute_result"
    }
   ],
   "source": [
    "df"
   ]
  },
  {
   "cell_type": "markdown",
   "metadata": {},
   "source": [
    "#### O jupyter-notebook já reconhe o objeto do tipo \"pandas.DataFrame\" e traz nesse formato de tabela. É diferente de você dar um print(df) que trás o objeto em formato texto."
   ]
  },
  {
   "cell_type": "code",
   "execution_count": 6,
   "metadata": {},
   "outputs": [
    {
     "name": "stdout",
     "output_type": "stream",
     "text": [
      "          id dataReferencia  codIBGE  nomeIBGE UFSigla            UFNome  \\\n",
      "0   75908792     01/01/2013  5300108  BRASÍLIA      DF  DISTRITO FEDERAL   \n",
      "1   72208975     01/02/2013  5300108  BRASÍLIA      DF  DISTRITO FEDERAL   \n",
      "2   63909551     01/03/2013  5300108  BRASÍLIA      DF  DISTRITO FEDERAL   \n",
      "3   74709431     01/04/2013  5300108  BRASÍLIA      DF  DISTRITO FEDERAL   \n",
      "4   73009570     01/05/2013  5300108  BRASÍLIA      DF  DISTRITO FEDERAL   \n",
      "..       ...            ...      ...       ...     ...               ...   \n",
      "80  71010608     01/09/2019  5300108  BRASÍLIA      DF  DISTRITO FEDERAL   \n",
      "81  73009437     01/10/2019  5300108  BRASÍLIA      DF  DISTRITO FEDERAL   \n",
      "82  69210574     01/11/2019  5300108  BRASÍLIA      DF  DISTRITO FEDERAL   \n",
      "83  66307873     01/12/2019  5300108  BRASÍLIA      DF  DISTRITO FEDERAL   \n",
      "84  67007738     01/01/2020  5300108  BRASÍLIA      DF  DISTRITO FEDERAL   \n",
      "\n",
      "         valor  qtdBeneficiados  \n",
      "0   11450358.0            63239  \n",
      "1   11034212.0            61121  \n",
      "2   11435012.0            61189  \n",
      "3   10762080.0            59505  \n",
      "4   11761262.0            67777  \n",
      "..         ...              ...  \n",
      "80  12459837.0            65270  \n",
      "81  12583058.0            65446  \n",
      "82  12110463.0            61517  \n",
      "83  12284381.0            62034  \n",
      "84  12109549.0            61776  \n",
      "\n",
      "[85 rows x 8 columns]\n"
     ]
    }
   ],
   "source": [
    "print(df)"
   ]
  },
  {
   "cell_type": "markdown",
   "metadata": {},
   "source": [
    "## Antes de continuar precisamos nos familiarizar um pouco mais com esse objeto \"DataFrame\" que contém os nossos dados. Então, sem perder tempo e sem medo, vamos aprender alguns comandos que podemos usar:"
   ]
  },
  {
   "cell_type": "markdown",
   "metadata": {},
   "source": [
    "#### O comando \"shape\" mostra o shape do DataFrame. Ele devolveu uma tupla (85,8). Essa tupla indica que o DateFrame \"df\" possui 85 linhas e 8 colunas."
   ]
  },
  {
   "cell_type": "code",
   "execution_count": 4,
   "metadata": {
    "scrolled": true
   },
   "outputs": [
    {
     "data": {
      "text/plain": [
       "(85, 8)"
      ]
     },
     "execution_count": 4,
     "metadata": {},
     "output_type": "execute_result"
    }
   ],
   "source": [
    "df.shape"
   ]
  },
  {
   "cell_type": "markdown",
   "metadata": {},
   "source": [
    "#### O comando \"columns\" nos entrega uma lista contendo as colunas do Dataframe. "
   ]
  },
  {
   "cell_type": "code",
   "execution_count": 15,
   "metadata": {},
   "outputs": [
    {
     "data": {
      "text/plain": [
       "Index(['id', 'dataReferencia', 'codIBGE', 'nomeIBGE', 'UFSigla', 'UFNome',\n",
       "       'valor', 'qtdBeneficiados'],\n",
       "      dtype='object')"
      ]
     },
     "execution_count": 15,
     "metadata": {},
     "output_type": "execute_result"
    }
   ],
   "source": [
    "df.columns"
   ]
  },
  {
   "cell_type": "markdown",
   "metadata": {},
   "source": [
    "#### O comando \"head()\" mostra a \"cabeça\" da tabela, ou seja, ele vai mostrar as primeiras linhas da tabela."
   ]
  },
  {
   "cell_type": "code",
   "execution_count": 20,
   "metadata": {},
   "outputs": [
    {
     "data": {
      "text/html": [
       "<div>\n",
       "<style scoped>\n",
       "    .dataframe tbody tr th:only-of-type {\n",
       "        vertical-align: middle;\n",
       "    }\n",
       "\n",
       "    .dataframe tbody tr th {\n",
       "        vertical-align: top;\n",
       "    }\n",
       "\n",
       "    .dataframe thead th {\n",
       "        text-align: right;\n",
       "    }\n",
       "</style>\n",
       "<table border=\"1\" class=\"dataframe\">\n",
       "  <thead>\n",
       "    <tr style=\"text-align: right;\">\n",
       "      <th></th>\n",
       "      <th>id</th>\n",
       "      <th>dataReferencia</th>\n",
       "      <th>codIBGE</th>\n",
       "      <th>nomeIBGE</th>\n",
       "      <th>UFSigla</th>\n",
       "      <th>UFNome</th>\n",
       "      <th>valor</th>\n",
       "      <th>qtdBeneficiados</th>\n",
       "    </tr>\n",
       "  </thead>\n",
       "  <tbody>\n",
       "    <tr>\n",
       "      <th>0</th>\n",
       "      <td>75908792</td>\n",
       "      <td>01/01/2013</td>\n",
       "      <td>5300108</td>\n",
       "      <td>BRASÃLIA</td>\n",
       "      <td>DF</td>\n",
       "      <td>DISTRITO FEDERAL</td>\n",
       "      <td>11450358.0</td>\n",
       "      <td>63239</td>\n",
       "    </tr>\n",
       "    <tr>\n",
       "      <th>1</th>\n",
       "      <td>72208975</td>\n",
       "      <td>01/02/2013</td>\n",
       "      <td>5300108</td>\n",
       "      <td>BRASÃLIA</td>\n",
       "      <td>DF</td>\n",
       "      <td>DISTRITO FEDERAL</td>\n",
       "      <td>11034212.0</td>\n",
       "      <td>61121</td>\n",
       "    </tr>\n",
       "    <tr>\n",
       "      <th>2</th>\n",
       "      <td>63909551</td>\n",
       "      <td>01/03/2013</td>\n",
       "      <td>5300108</td>\n",
       "      <td>BRASÃLIA</td>\n",
       "      <td>DF</td>\n",
       "      <td>DISTRITO FEDERAL</td>\n",
       "      <td>11435012.0</td>\n",
       "      <td>61189</td>\n",
       "    </tr>\n",
       "    <tr>\n",
       "      <th>3</th>\n",
       "      <td>74709431</td>\n",
       "      <td>01/04/2013</td>\n",
       "      <td>5300108</td>\n",
       "      <td>BRASÃLIA</td>\n",
       "      <td>DF</td>\n",
       "      <td>DISTRITO FEDERAL</td>\n",
       "      <td>10762080.0</td>\n",
       "      <td>59505</td>\n",
       "    </tr>\n",
       "    <tr>\n",
       "      <th>4</th>\n",
       "      <td>73009570</td>\n",
       "      <td>01/05/2013</td>\n",
       "      <td>5300108</td>\n",
       "      <td>BRASÃLIA</td>\n",
       "      <td>DF</td>\n",
       "      <td>DISTRITO FEDERAL</td>\n",
       "      <td>11761262.0</td>\n",
       "      <td>67777</td>\n",
       "    </tr>\n",
       "  </tbody>\n",
       "</table>\n",
       "</div>"
      ],
      "text/plain": [
       "         id dataReferencia  codIBGE   nomeIBGE UFSigla            UFNome  \\\n",
       "0  75908792     01/01/2013  5300108  BRASÃLIA      DF  DISTRITO FEDERAL   \n",
       "1  72208975     01/02/2013  5300108  BRASÃLIA      DF  DISTRITO FEDERAL   \n",
       "2  63909551     01/03/2013  5300108  BRASÃLIA      DF  DISTRITO FEDERAL   \n",
       "3  74709431     01/04/2013  5300108  BRASÃLIA      DF  DISTRITO FEDERAL   \n",
       "4  73009570     01/05/2013  5300108  BRASÃLIA      DF  DISTRITO FEDERAL   \n",
       "\n",
       "        valor  qtdBeneficiados  \n",
       "0  11450358.0            63239  \n",
       "1  11034212.0            61121  \n",
       "2  11435012.0            61189  \n",
       "3  10762080.0            59505  \n",
       "4  11761262.0            67777  "
      ]
     },
     "execution_count": 20,
     "metadata": {},
     "output_type": "execute_result"
    }
   ],
   "source": [
    "df.head()"
   ]
  },
  {
   "cell_type": "markdown",
   "metadata": {},
   "source": [
    "#### Já o comando \"tail()\" vai mostrar as últimas linhas..."
   ]
  },
  {
   "cell_type": "code",
   "execution_count": 21,
   "metadata": {
    "scrolled": true
   },
   "outputs": [
    {
     "data": {
      "text/html": [
       "<div>\n",
       "<style scoped>\n",
       "    .dataframe tbody tr th:only-of-type {\n",
       "        vertical-align: middle;\n",
       "    }\n",
       "\n",
       "    .dataframe tbody tr th {\n",
       "        vertical-align: top;\n",
       "    }\n",
       "\n",
       "    .dataframe thead th {\n",
       "        text-align: right;\n",
       "    }\n",
       "</style>\n",
       "<table border=\"1\" class=\"dataframe\">\n",
       "  <thead>\n",
       "    <tr style=\"text-align: right;\">\n",
       "      <th></th>\n",
       "      <th>id</th>\n",
       "      <th>dataReferencia</th>\n",
       "      <th>codIBGE</th>\n",
       "      <th>nomeIBGE</th>\n",
       "      <th>UFSigla</th>\n",
       "      <th>UFNome</th>\n",
       "      <th>valor</th>\n",
       "      <th>qtdBeneficiados</th>\n",
       "    </tr>\n",
       "  </thead>\n",
       "  <tbody>\n",
       "    <tr>\n",
       "      <th>80</th>\n",
       "      <td>71010608</td>\n",
       "      <td>01/09/2019</td>\n",
       "      <td>5300108</td>\n",
       "      <td>BRASÃLIA</td>\n",
       "      <td>DF</td>\n",
       "      <td>DISTRITO FEDERAL</td>\n",
       "      <td>12459837.0</td>\n",
       "      <td>65270</td>\n",
       "    </tr>\n",
       "    <tr>\n",
       "      <th>81</th>\n",
       "      <td>73009437</td>\n",
       "      <td>01/10/2019</td>\n",
       "      <td>5300108</td>\n",
       "      <td>BRASÃLIA</td>\n",
       "      <td>DF</td>\n",
       "      <td>DISTRITO FEDERAL</td>\n",
       "      <td>12583058.0</td>\n",
       "      <td>65446</td>\n",
       "    </tr>\n",
       "    <tr>\n",
       "      <th>82</th>\n",
       "      <td>69210574</td>\n",
       "      <td>01/11/2019</td>\n",
       "      <td>5300108</td>\n",
       "      <td>BRASÃLIA</td>\n",
       "      <td>DF</td>\n",
       "      <td>DISTRITO FEDERAL</td>\n",
       "      <td>12110463.0</td>\n",
       "      <td>61517</td>\n",
       "    </tr>\n",
       "    <tr>\n",
       "      <th>83</th>\n",
       "      <td>66307873</td>\n",
       "      <td>01/12/2019</td>\n",
       "      <td>5300108</td>\n",
       "      <td>BRASÃLIA</td>\n",
       "      <td>DF</td>\n",
       "      <td>DISTRITO FEDERAL</td>\n",
       "      <td>12284381.0</td>\n",
       "      <td>62034</td>\n",
       "    </tr>\n",
       "    <tr>\n",
       "      <th>84</th>\n",
       "      <td>67007738</td>\n",
       "      <td>01/01/2020</td>\n",
       "      <td>5300108</td>\n",
       "      <td>BRASÃLIA</td>\n",
       "      <td>DF</td>\n",
       "      <td>DISTRITO FEDERAL</td>\n",
       "      <td>12109549.0</td>\n",
       "      <td>61776</td>\n",
       "    </tr>\n",
       "  </tbody>\n",
       "</table>\n",
       "</div>"
      ],
      "text/plain": [
       "          id dataReferencia  codIBGE   nomeIBGE UFSigla            UFNome  \\\n",
       "80  71010608     01/09/2019  5300108  BRASÃLIA      DF  DISTRITO FEDERAL   \n",
       "81  73009437     01/10/2019  5300108  BRASÃLIA      DF  DISTRITO FEDERAL   \n",
       "82  69210574     01/11/2019  5300108  BRASÃLIA      DF  DISTRITO FEDERAL   \n",
       "83  66307873     01/12/2019  5300108  BRASÃLIA      DF  DISTRITO FEDERAL   \n",
       "84  67007738     01/01/2020  5300108  BRASÃLIA      DF  DISTRITO FEDERAL   \n",
       "\n",
       "         valor  qtdBeneficiados  \n",
       "80  12459837.0            65270  \n",
       "81  12583058.0            65446  \n",
       "82  12110463.0            61517  \n",
       "83  12284381.0            62034  \n",
       "84  12109549.0            61776  "
      ]
     },
     "execution_count": 21,
     "metadata": {},
     "output_type": "execute_result"
    }
   ],
   "source": [
    "df.tail()"
   ]
  },
  {
   "cell_type": "markdown",
   "metadata": {},
   "source": [
    "Olha só! A linha 84 trouxe o valor gasto com Bolsa Família no mês de janeiro de 2020. Foram 12.109.549 reais apenas no DF. Veja só, sem perceber, você já está fazendo Análise Exploratória nos Dados. Vamos continuar..."
   ]
  },
  {
   "cell_type": "markdown",
   "metadata": {},
   "source": [
    "#### O comando \"dtypes\" entrega informações um pouco mais detalhadas sobre as colunas (= variáveis), incluindo seus tipos de dados."
   ]
  },
  {
   "cell_type": "code",
   "execution_count": 7,
   "metadata": {
    "scrolled": true
   },
   "outputs": [
    {
     "data": {
      "text/plain": [
       "id                   int64\n",
       "dataReferencia      object\n",
       "codIBGE              int64\n",
       "nomeIBGE            object\n",
       "UFSigla             object\n",
       "UFNome              object\n",
       "valor              float64\n",
       "qtdBeneficiados      int64\n",
       "dtype: object"
      ]
     },
     "execution_count": 7,
     "metadata": {},
     "output_type": "execute_result"
    }
   ],
   "source": [
    "df.dtypes"
   ]
  },
  {
   "cell_type": "markdown",
   "metadata": {},
   "source": [
    "#### O comando \"info()\" apresenta informações gerais sobre as estruturas de dados e os dados."
   ]
  },
  {
   "cell_type": "code",
   "execution_count": 9,
   "metadata": {
    "scrolled": true
   },
   "outputs": [
    {
     "name": "stdout",
     "output_type": "stream",
     "text": [
      "<class 'pandas.core.frame.DataFrame'>\n",
      "RangeIndex: 85 entries, 0 to 84\n",
      "Data columns (total 8 columns):\n",
      " #   Column           Non-Null Count  Dtype  \n",
      "---  ------           --------------  -----  \n",
      " 0   id               85 non-null     int64  \n",
      " 1   dataReferencia   85 non-null     object \n",
      " 2   codIBGE          85 non-null     int64  \n",
      " 3   nomeIBGE         85 non-null     object \n",
      " 4   UFSigla          85 non-null     object \n",
      " 5   UFNome           85 non-null     object \n",
      " 6   valor            85 non-null     float64\n",
      " 7   qtdBeneficiados  85 non-null     int64  \n",
      "dtypes: float64(1), int64(3), object(4)\n",
      "memory usage: 5.4+ KB\n"
     ]
    }
   ],
   "source": [
    "df.info()"
   ]
  },
  {
   "cell_type": "markdown",
   "metadata": {},
   "source": [
    "## Em seguida, é importante também, entender como acessar uma única linha do DataFrame, uma única coluna, ou uma única célula. Vamos lá:"
   ]
  },
  {
   "cell_type": "markdown",
   "metadata": {},
   "source": [
    "### Acessando linhas individualmente:"
   ]
  },
  {
   "cell_type": "markdown",
   "metadata": {},
   "source": [
    "#### Como exemplo, primeiro vamos pedir as primeiras linhas. Lembra como fazemos isso? "
   ]
  },
  {
   "cell_type": "code",
   "execution_count": 11,
   "metadata": {},
   "outputs": [
    {
     "data": {
      "text/html": [
       "<div>\n",
       "<style scoped>\n",
       "    .dataframe tbody tr th:only-of-type {\n",
       "        vertical-align: middle;\n",
       "    }\n",
       "\n",
       "    .dataframe tbody tr th {\n",
       "        vertical-align: top;\n",
       "    }\n",
       "\n",
       "    .dataframe thead th {\n",
       "        text-align: right;\n",
       "    }\n",
       "</style>\n",
       "<table border=\"1\" class=\"dataframe\">\n",
       "  <thead>\n",
       "    <tr style=\"text-align: right;\">\n",
       "      <th></th>\n",
       "      <th>id</th>\n",
       "      <th>dataReferencia</th>\n",
       "      <th>codIBGE</th>\n",
       "      <th>nomeIBGE</th>\n",
       "      <th>UFSigla</th>\n",
       "      <th>UFNome</th>\n",
       "      <th>valor</th>\n",
       "      <th>qtdBeneficiados</th>\n",
       "    </tr>\n",
       "  </thead>\n",
       "  <tbody>\n",
       "    <tr>\n",
       "      <th>0</th>\n",
       "      <td>75908792</td>\n",
       "      <td>01/01/2013</td>\n",
       "      <td>5300108</td>\n",
       "      <td>BRASÍLIA</td>\n",
       "      <td>DF</td>\n",
       "      <td>DISTRITO FEDERAL</td>\n",
       "      <td>11450358.0</td>\n",
       "      <td>63239</td>\n",
       "    </tr>\n",
       "    <tr>\n",
       "      <th>1</th>\n",
       "      <td>72208975</td>\n",
       "      <td>01/02/2013</td>\n",
       "      <td>5300108</td>\n",
       "      <td>BRASÍLIA</td>\n",
       "      <td>DF</td>\n",
       "      <td>DISTRITO FEDERAL</td>\n",
       "      <td>11034212.0</td>\n",
       "      <td>61121</td>\n",
       "    </tr>\n",
       "    <tr>\n",
       "      <th>2</th>\n",
       "      <td>63909551</td>\n",
       "      <td>01/03/2013</td>\n",
       "      <td>5300108</td>\n",
       "      <td>BRASÍLIA</td>\n",
       "      <td>DF</td>\n",
       "      <td>DISTRITO FEDERAL</td>\n",
       "      <td>11435012.0</td>\n",
       "      <td>61189</td>\n",
       "    </tr>\n",
       "    <tr>\n",
       "      <th>3</th>\n",
       "      <td>74709431</td>\n",
       "      <td>01/04/2013</td>\n",
       "      <td>5300108</td>\n",
       "      <td>BRASÍLIA</td>\n",
       "      <td>DF</td>\n",
       "      <td>DISTRITO FEDERAL</td>\n",
       "      <td>10762080.0</td>\n",
       "      <td>59505</td>\n",
       "    </tr>\n",
       "    <tr>\n",
       "      <th>4</th>\n",
       "      <td>73009570</td>\n",
       "      <td>01/05/2013</td>\n",
       "      <td>5300108</td>\n",
       "      <td>BRASÍLIA</td>\n",
       "      <td>DF</td>\n",
       "      <td>DISTRITO FEDERAL</td>\n",
       "      <td>11761262.0</td>\n",
       "      <td>67777</td>\n",
       "    </tr>\n",
       "  </tbody>\n",
       "</table>\n",
       "</div>"
      ],
      "text/plain": [
       "         id dataReferencia  codIBGE  nomeIBGE UFSigla            UFNome  \\\n",
       "0  75908792     01/01/2013  5300108  BRASÍLIA      DF  DISTRITO FEDERAL   \n",
       "1  72208975     01/02/2013  5300108  BRASÍLIA      DF  DISTRITO FEDERAL   \n",
       "2  63909551     01/03/2013  5300108  BRASÍLIA      DF  DISTRITO FEDERAL   \n",
       "3  74709431     01/04/2013  5300108  BRASÍLIA      DF  DISTRITO FEDERAL   \n",
       "4  73009570     01/05/2013  5300108  BRASÍLIA      DF  DISTRITO FEDERAL   \n",
       "\n",
       "        valor  qtdBeneficiados  \n",
       "0  11450358.0            63239  \n",
       "1  11034212.0            61121  \n",
       "2  11435012.0            61189  \n",
       "3  10762080.0            59505  \n",
       "4  11761262.0            67777  "
      ]
     },
     "execution_count": 11,
     "metadata": {},
     "output_type": "execute_result"
    }
   ],
   "source": [
    "df.head()"
   ]
  },
  {
   "cell_type": "markdown",
   "metadata": {},
   "source": [
    "#### Ok, então suponha que queremos acessar apenas a linha de índice 2. Para isso, usamos o comando iloc[i] com o número do índice da linha entre colchetes como no exemplo abaixo:"
   ]
  },
  {
   "cell_type": "code",
   "execution_count": 23,
   "metadata": {},
   "outputs": [
    {
     "data": {
      "text/plain": [
       "id                         63909551\n",
       "dataReferencia           01/03/2013\n",
       "codIBGE                     5300108\n",
       "nomeIBGE                   BRASÍLIA\n",
       "UFSigla                          DF\n",
       "UFNome             DISTRITO FEDERAL\n",
       "valor                    1.1435e+07\n",
       "qtdBeneficiados               61189\n",
       "Name: 2, dtype: object"
      ]
     },
     "execution_count": 23,
     "metadata": {},
     "output_type": "execute_result"
    }
   ],
   "source": [
    "df.iloc[2]"
   ]
  },
  {
   "cell_type": "markdown",
   "metadata": {},
   "source": [
    "#### Tenta aí: Pega a primeira linha! Lembre-se que a primeira linha é aquela que possui índice 0!"
   ]
  },
  {
   "cell_type": "code",
   "execution_count": 21,
   "metadata": {},
   "outputs": [
    {
     "ename": "SyntaxError",
     "evalue": "invalid syntax (<ipython-input-21-315afffa9231>, line 1)",
     "output_type": "error",
     "traceback": [
      "\u001b[0;36m  File \u001b[0;32m\"<ipython-input-21-315afffa9231>\"\u001b[0;36m, line \u001b[0;32m1\u001b[0m\n\u001b[0;31m    df.iloc[?]\u001b[0m\n\u001b[0m            ^\u001b[0m\n\u001b[0;31mSyntaxError\u001b[0m\u001b[0;31m:\u001b[0m invalid syntax\n"
     ]
    }
   ],
   "source": [
    "df.iloc[?]"
   ]
  },
  {
   "cell_type": "markdown",
   "metadata": {},
   "source": [
    "#### Resposta:"
   ]
  },
  {
   "cell_type": "code",
   "execution_count": 24,
   "metadata": {},
   "outputs": [
    {
     "data": {
      "text/plain": [
       "id                         75908792\n",
       "dataReferencia           01/01/2013\n",
       "codIBGE                     5300108\n",
       "nomeIBGE                   BRASÍLIA\n",
       "UFSigla                          DF\n",
       "UFNome             DISTRITO FEDERAL\n",
       "valor                   1.14504e+07\n",
       "qtdBeneficiados               63239\n",
       "Name: 0, dtype: object"
      ]
     },
     "execution_count": 24,
     "metadata": {},
     "output_type": "execute_result"
    }
   ],
   "source": [
    "df.iloc[0]"
   ]
  },
  {
   "cell_type": "markdown",
   "metadata": {},
   "source": [
    "#### Legal, mas e se eu quiser a \"qtdBeneficiados\" da linha de índice 0? Aí você faz assim:"
   ]
  },
  {
   "cell_type": "code",
   "execution_count": 25,
   "metadata": {},
   "outputs": [
    {
     "data": {
      "text/plain": [
       "63239"
      ]
     },
     "execution_count": 25,
     "metadata": {},
     "output_type": "execute_result"
    }
   ],
   "source": [
    "df.iloc[0]['qtdBeneficiados']"
   ]
  },
  {
   "cell_type": "markdown",
   "metadata": {},
   "source": [
    "#### Faz esse exercício: Se eu te pedir pra dividir o \"valor\" pela \"qtdBeneficiados\" da linha de índice 0. Como seria?"
   ]
  },
  {
   "cell_type": "code",
   "execution_count": 26,
   "metadata": {},
   "outputs": [],
   "source": [
    "# Escreva aqui"
   ]
  },
  {
   "cell_type": "markdown",
   "metadata": {},
   "source": [
    "#### Resposta:"
   ]
  },
  {
   "cell_type": "code",
   "execution_count": 3,
   "metadata": {},
   "outputs": [
    {
     "name": "stdout",
     "output_type": "stream",
     "text": [
      "181.0648175967362\n"
     ]
    }
   ],
   "source": [
    "valor1 = df.iloc[0]['valor'] / df.iloc[0]['qtdBeneficiados']\n",
    "print(valor1)"
   ]
  },
  {
   "cell_type": "markdown",
   "metadata": {},
   "source": [
    "### Acessando colunas individualmente:"
   ]
  },
  {
   "cell_type": "markdown",
   "metadata": {},
   "source": [
    "#### Acessar uma coluna inteira é mais fácil ainda. Tudo que você tem que fazer é colocar o nome da coluna entre colchetes. Primeiro, vamos pedir as colunas. Lembra como faz? "
   ]
  },
  {
   "cell_type": "code",
   "execution_count": 4,
   "metadata": {},
   "outputs": [
    {
     "data": {
      "text/plain": [
       "Index(['id', 'dataReferencia', 'codIBGE', 'nomeIBGE', 'UFSigla', 'UFNome',\n",
       "       'valor', 'qtdBeneficiados'],\n",
       "      dtype='object')"
      ]
     },
     "execution_count": 4,
     "metadata": {},
     "output_type": "execute_result"
    }
   ],
   "source": [
    "df.columns"
   ]
  },
  {
   "cell_type": "markdown",
   "metadata": {},
   "source": [
    "#### Vamos então pegar a coluna \"valor\" inteira:"
   ]
  },
  {
   "cell_type": "code",
   "execution_count": 5,
   "metadata": {},
   "outputs": [
    {
     "data": {
      "text/plain": [
       "0     11450358.0\n",
       "1     11034212.0\n",
       "2     11435012.0\n",
       "3     10762080.0\n",
       "4     11761262.0\n",
       "         ...    \n",
       "80    12459837.0\n",
       "81    12583058.0\n",
       "82    12110463.0\n",
       "83    12284381.0\n",
       "84    12109549.0\n",
       "Name: valor, Length: 85, dtype: float64"
      ]
     },
     "execution_count": 5,
     "metadata": {},
     "output_type": "execute_result"
    }
   ],
   "source": [
    "df['valor']"
   ]
  },
  {
   "cell_type": "markdown",
   "metadata": {},
   "source": [
    "#### E como pegar o valor de índice 2?"
   ]
  },
  {
   "cell_type": "code",
   "execution_count": 6,
   "metadata": {},
   "outputs": [
    {
     "data": {
      "text/plain": [
       "11435012.0"
      ]
     },
     "execution_count": 6,
     "metadata": {},
     "output_type": "execute_result"
    }
   ],
   "source": [
    "df['valor'].iloc[2]"
   ]
  },
  {
   "cell_type": "markdown",
   "metadata": {},
   "source": [
    "#### Exercício: pegar o valor da linha de índice 0?"
   ]
  },
  {
   "cell_type": "code",
   "execution_count": 7,
   "metadata": {},
   "outputs": [
    {
     "data": {
      "text/plain": [
       "11450358.0"
      ]
     },
     "execution_count": 7,
     "metadata": {},
     "output_type": "execute_result"
    }
   ],
   "source": [
    "df['valor'].iloc[0]"
   ]
  },
  {
   "cell_type": "markdown",
   "metadata": {},
   "source": [
    "#### Então poderíamos ter feito aquela conta do \"valor\" dividido pelo \"qtdBeneficiados\" de forma diferente:"
   ]
  },
  {
   "cell_type": "code",
   "execution_count": 8,
   "metadata": {},
   "outputs": [
    {
     "name": "stdout",
     "output_type": "stream",
     "text": [
      "181.0648175967362\n"
     ]
    }
   ],
   "source": [
    "valor2 =  df['valor'].iloc[0] / df['qtdBeneficiados'].iloc[0]\n",
    "print(valor2)"
   ]
  },
  {
   "cell_type": "markdown",
   "metadata": {},
   "source": [
    "#### Veja que eu nomei as variáveis de valor1 e valor2 de propósito porque agora poderemos comparar as duas. O resultado deveria ser o mesmo:"
   ]
  },
  {
   "cell_type": "code",
   "execution_count": 9,
   "metadata": {},
   "outputs": [
    {
     "data": {
      "text/plain": [
       "True"
      ]
     },
     "execution_count": 9,
     "metadata": {},
     "output_type": "execute_result"
    }
   ],
   "source": [
    "valor1 == valor2"
   ]
  },
  {
   "cell_type": "markdown",
   "metadata": {},
   "source": [
    "####  Legal! Vamos continuar? Vou mostrar mais um recurso muito poderoso do DataFrame que é a possibilidade de você criar novas colunas inteiras através de simples comandos."
   ]
  },
  {
   "cell_type": "markdown",
   "metadata": {},
   "source": [
    "#### Não seria interessante verificar quanto dá a divisão do \"valor\" pela \"qtdBeneficiados\" de cada linha do no DataFrame. Então, podemos criar uma nova coluna e fazer essas contas apenas com esse comando:"
   ]
  },
  {
   "cell_type": "code",
   "execution_count": 10,
   "metadata": {},
   "outputs": [],
   "source": [
    "df['divisao'] = df['valor'] / df['qtdBeneficiados']"
   ]
  },
  {
   "cell_type": "markdown",
   "metadata": {},
   "source": [
    "#### Como a coluna \"divisao\"  não existe, ele cria e ele faz a conta em cada linha para nós. Peça o head() e você verá que a nova coluna \"divisao\" passou a existir com a divisao calculada para cada linha:"
   ]
  },
  {
   "cell_type": "code",
   "execution_count": 11,
   "metadata": {},
   "outputs": [
    {
     "data": {
      "text/html": [
       "<div>\n",
       "<style scoped>\n",
       "    .dataframe tbody tr th:only-of-type {\n",
       "        vertical-align: middle;\n",
       "    }\n",
       "\n",
       "    .dataframe tbody tr th {\n",
       "        vertical-align: top;\n",
       "    }\n",
       "\n",
       "    .dataframe thead th {\n",
       "        text-align: right;\n",
       "    }\n",
       "</style>\n",
       "<table border=\"1\" class=\"dataframe\">\n",
       "  <thead>\n",
       "    <tr style=\"text-align: right;\">\n",
       "      <th></th>\n",
       "      <th>id</th>\n",
       "      <th>dataReferencia</th>\n",
       "      <th>codIBGE</th>\n",
       "      <th>nomeIBGE</th>\n",
       "      <th>UFSigla</th>\n",
       "      <th>UFNome</th>\n",
       "      <th>valor</th>\n",
       "      <th>qtdBeneficiados</th>\n",
       "      <th>divisao</th>\n",
       "    </tr>\n",
       "  </thead>\n",
       "  <tbody>\n",
       "    <tr>\n",
       "      <th>0</th>\n",
       "      <td>75908792</td>\n",
       "      <td>01/01/2013</td>\n",
       "      <td>5300108</td>\n",
       "      <td>BRASÍLIA</td>\n",
       "      <td>DF</td>\n",
       "      <td>DISTRITO FEDERAL</td>\n",
       "      <td>11450358.0</td>\n",
       "      <td>63239</td>\n",
       "      <td>181.064818</td>\n",
       "    </tr>\n",
       "    <tr>\n",
       "      <th>1</th>\n",
       "      <td>72208975</td>\n",
       "      <td>01/02/2013</td>\n",
       "      <td>5300108</td>\n",
       "      <td>BRASÍLIA</td>\n",
       "      <td>DF</td>\n",
       "      <td>DISTRITO FEDERAL</td>\n",
       "      <td>11034212.0</td>\n",
       "      <td>61121</td>\n",
       "      <td>180.530620</td>\n",
       "    </tr>\n",
       "    <tr>\n",
       "      <th>2</th>\n",
       "      <td>63909551</td>\n",
       "      <td>01/03/2013</td>\n",
       "      <td>5300108</td>\n",
       "      <td>BRASÍLIA</td>\n",
       "      <td>DF</td>\n",
       "      <td>DISTRITO FEDERAL</td>\n",
       "      <td>11435012.0</td>\n",
       "      <td>61189</td>\n",
       "      <td>186.880191</td>\n",
       "    </tr>\n",
       "    <tr>\n",
       "      <th>3</th>\n",
       "      <td>74709431</td>\n",
       "      <td>01/04/2013</td>\n",
       "      <td>5300108</td>\n",
       "      <td>BRASÍLIA</td>\n",
       "      <td>DF</td>\n",
       "      <td>DISTRITO FEDERAL</td>\n",
       "      <td>10762080.0</td>\n",
       "      <td>59505</td>\n",
       "      <td>180.860096</td>\n",
       "    </tr>\n",
       "    <tr>\n",
       "      <th>4</th>\n",
       "      <td>73009570</td>\n",
       "      <td>01/05/2013</td>\n",
       "      <td>5300108</td>\n",
       "      <td>BRASÍLIA</td>\n",
       "      <td>DF</td>\n",
       "      <td>DISTRITO FEDERAL</td>\n",
       "      <td>11761262.0</td>\n",
       "      <td>67777</td>\n",
       "      <td>173.528808</td>\n",
       "    </tr>\n",
       "  </tbody>\n",
       "</table>\n",
       "</div>"
      ],
      "text/plain": [
       "         id dataReferencia  codIBGE  nomeIBGE UFSigla            UFNome  \\\n",
       "0  75908792     01/01/2013  5300108  BRASÍLIA      DF  DISTRITO FEDERAL   \n",
       "1  72208975     01/02/2013  5300108  BRASÍLIA      DF  DISTRITO FEDERAL   \n",
       "2  63909551     01/03/2013  5300108  BRASÍLIA      DF  DISTRITO FEDERAL   \n",
       "3  74709431     01/04/2013  5300108  BRASÍLIA      DF  DISTRITO FEDERAL   \n",
       "4  73009570     01/05/2013  5300108  BRASÍLIA      DF  DISTRITO FEDERAL   \n",
       "\n",
       "        valor  qtdBeneficiados     divisao  \n",
       "0  11450358.0            63239  181.064818  \n",
       "1  11034212.0            61121  180.530620  \n",
       "2  11435012.0            61189  186.880191  \n",
       "3  10762080.0            59505  180.860096  \n",
       "4  11761262.0            67777  173.528808  "
      ]
     },
     "execution_count": 11,
     "metadata": {},
     "output_type": "execute_result"
    }
   ],
   "source": [
    "df.head()"
   ]
  },
  {
   "cell_type": "markdown",
   "metadata": {},
   "source": [
    "#### Outro exemplo seria, por exemplo, criar uma coluna que dirá se, por exemplo, a \"divisao\" que acabamos de criar é superior ou não a determinado valor constante:"
   ]
  },
  {
   "cell_type": "code",
   "execution_count": 12,
   "metadata": {},
   "outputs": [],
   "source": [
    "df['divisaoMaiorQue180'] = df['divisao'] > 180"
   ]
  },
  {
   "cell_type": "code",
   "execution_count": 13,
   "metadata": {},
   "outputs": [
    {
     "data": {
      "text/html": [
       "<div>\n",
       "<style scoped>\n",
       "    .dataframe tbody tr th:only-of-type {\n",
       "        vertical-align: middle;\n",
       "    }\n",
       "\n",
       "    .dataframe tbody tr th {\n",
       "        vertical-align: top;\n",
       "    }\n",
       "\n",
       "    .dataframe thead th {\n",
       "        text-align: right;\n",
       "    }\n",
       "</style>\n",
       "<table border=\"1\" class=\"dataframe\">\n",
       "  <thead>\n",
       "    <tr style=\"text-align: right;\">\n",
       "      <th></th>\n",
       "      <th>id</th>\n",
       "      <th>dataReferencia</th>\n",
       "      <th>codIBGE</th>\n",
       "      <th>nomeIBGE</th>\n",
       "      <th>UFSigla</th>\n",
       "      <th>UFNome</th>\n",
       "      <th>valor</th>\n",
       "      <th>qtdBeneficiados</th>\n",
       "      <th>divisao</th>\n",
       "      <th>divisaoMaiorQue180</th>\n",
       "    </tr>\n",
       "  </thead>\n",
       "  <tbody>\n",
       "    <tr>\n",
       "      <th>0</th>\n",
       "      <td>75908792</td>\n",
       "      <td>01/01/2013</td>\n",
       "      <td>5300108</td>\n",
       "      <td>BRASÍLIA</td>\n",
       "      <td>DF</td>\n",
       "      <td>DISTRITO FEDERAL</td>\n",
       "      <td>11450358.0</td>\n",
       "      <td>63239</td>\n",
       "      <td>181.064818</td>\n",
       "      <td>True</td>\n",
       "    </tr>\n",
       "    <tr>\n",
       "      <th>1</th>\n",
       "      <td>72208975</td>\n",
       "      <td>01/02/2013</td>\n",
       "      <td>5300108</td>\n",
       "      <td>BRASÍLIA</td>\n",
       "      <td>DF</td>\n",
       "      <td>DISTRITO FEDERAL</td>\n",
       "      <td>11034212.0</td>\n",
       "      <td>61121</td>\n",
       "      <td>180.530620</td>\n",
       "      <td>True</td>\n",
       "    </tr>\n",
       "    <tr>\n",
       "      <th>2</th>\n",
       "      <td>63909551</td>\n",
       "      <td>01/03/2013</td>\n",
       "      <td>5300108</td>\n",
       "      <td>BRASÍLIA</td>\n",
       "      <td>DF</td>\n",
       "      <td>DISTRITO FEDERAL</td>\n",
       "      <td>11435012.0</td>\n",
       "      <td>61189</td>\n",
       "      <td>186.880191</td>\n",
       "      <td>True</td>\n",
       "    </tr>\n",
       "    <tr>\n",
       "      <th>3</th>\n",
       "      <td>74709431</td>\n",
       "      <td>01/04/2013</td>\n",
       "      <td>5300108</td>\n",
       "      <td>BRASÍLIA</td>\n",
       "      <td>DF</td>\n",
       "      <td>DISTRITO FEDERAL</td>\n",
       "      <td>10762080.0</td>\n",
       "      <td>59505</td>\n",
       "      <td>180.860096</td>\n",
       "      <td>True</td>\n",
       "    </tr>\n",
       "    <tr>\n",
       "      <th>4</th>\n",
       "      <td>73009570</td>\n",
       "      <td>01/05/2013</td>\n",
       "      <td>5300108</td>\n",
       "      <td>BRASÍLIA</td>\n",
       "      <td>DF</td>\n",
       "      <td>DISTRITO FEDERAL</td>\n",
       "      <td>11761262.0</td>\n",
       "      <td>67777</td>\n",
       "      <td>173.528808</td>\n",
       "      <td>False</td>\n",
       "    </tr>\n",
       "  </tbody>\n",
       "</table>\n",
       "</div>"
      ],
      "text/plain": [
       "         id dataReferencia  codIBGE  nomeIBGE UFSigla            UFNome  \\\n",
       "0  75908792     01/01/2013  5300108  BRASÍLIA      DF  DISTRITO FEDERAL   \n",
       "1  72208975     01/02/2013  5300108  BRASÍLIA      DF  DISTRITO FEDERAL   \n",
       "2  63909551     01/03/2013  5300108  BRASÍLIA      DF  DISTRITO FEDERAL   \n",
       "3  74709431     01/04/2013  5300108  BRASÍLIA      DF  DISTRITO FEDERAL   \n",
       "4  73009570     01/05/2013  5300108  BRASÍLIA      DF  DISTRITO FEDERAL   \n",
       "\n",
       "        valor  qtdBeneficiados     divisao  divisaoMaiorQue180  \n",
       "0  11450358.0            63239  181.064818                True  \n",
       "1  11034212.0            61121  180.530620                True  \n",
       "2  11435012.0            61189  186.880191                True  \n",
       "3  10762080.0            59505  180.860096                True  \n",
       "4  11761262.0            67777  173.528808               False  "
      ]
     },
     "execution_count": 13,
     "metadata": {},
     "output_type": "execute_result"
    }
   ],
   "source": [
    "df.head()"
   ]
  },
  {
   "cell_type": "markdown",
   "metadata": {},
   "source": [
    "## Ótimo! Aprendemos a ler os dados do arquivo CSV e já aprendemos a mostrar esses dados e acessar elementos dele. Vamos seguir para a última parte da oficina que é aprender formas de plotar e visualizar alguns gráficos e fazermos agumas análises estatísticas!"
   ]
  },
  {
   "cell_type": "markdown",
   "metadata": {},
   "source": [
    "# Quando o instrutor autorizar, siga o link abaixo:"
   ]
  },
  {
   "cell_type": "markdown",
   "metadata": {},
   "source": [
    "## [Plotando e Visualizando Gráficos Usando Bokeh](../../etapas/bokeh/bokeh.ipynb)"
   ]
  },
  {
   "cell_type": "code",
   "execution_count": null,
   "metadata": {},
   "outputs": [],
   "source": []
  }
 ],
 "metadata": {
  "kernelspec": {
   "display_name": "Python 3",
   "language": "python",
   "name": "python3"
  },
  "language_info": {
   "codemirror_mode": {
    "name": "ipython",
    "version": 3
   },
   "file_extension": ".py",
   "mimetype": "text/x-python",
   "name": "python",
   "nbconvert_exporter": "python",
   "pygments_lexer": "ipython3",
   "version": "3.7.3"
  }
 },
 "nbformat": 4,
 "nbformat_minor": 4
}
