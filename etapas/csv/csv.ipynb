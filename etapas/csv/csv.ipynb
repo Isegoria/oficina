{
 "cells": [
  {
   "cell_type": "markdown",
   "metadata": {},
   "source": [
    "![alt text](../../figs/logoLEFT.png \"CLDF\") | CÂMARA LEGISLATIVA DO DISTRITO FEDERAL | ![alt text](../../figs/logoRIGHT.png \"CLDF\")\n",
    "--- | :---: | ---\n",
    "| **COORDENADORIA DE MODERNIZAÇÃO E INFORMÁTICA - CMI** | \n",
    "| **OFICINA ASI/LABHINOVA** | \n",
    "| **ANÁLISE EXPLORATÓRIA DE DADOS ABERTOS USANDO PYTHON** | "
   ]
  },
  {
   "cell_type": "markdown",
   "metadata": {},
   "source": [
    "# Acessando Dados Abertos de Arquivos CSV"
   ]
  },
  {
   "cell_type": "markdown",
   "metadata": {},
   "source": [
    "Vamos continuar o curso mostrando como acessar dados abertos de arquivos CSV e também vamos aproveitar para falar um pouco do domínio de Matemática e Estatística do nosso diagrama Venn de Ciência de Dados abaixo, lembra? Não podemos perder o foco!"
   ]
  },
  {
   "cell_type": "markdown",
   "metadata": {},
   "source": [
    "![alt text](../../figs/dsvenn-br-math-peq.png \"Diagrama de Venn de Ciência de Dados ênfatizando Estatística\")"
   ]
  },
  {
   "cell_type": "markdown",
   "metadata": {},
   "source": [
    "#### Uma coisa de cada vez! Primeiro vamos importar as bibliotecas que faremos uso. Lembra do pandas? Esse é o momento de usar essa ferramenta!  ![alt text](../../figs/pandas.png \"Biblioteca Pandas\")"
   ]
  },
  {
   "cell_type": "markdown",
   "metadata": {},
   "source": [
    "\"Pandas é uma biblioteca de código aberto para análise de dados. Ela dá ao Python a capacidade de trabalhar com dados do tipo planilha, permitindo carregar, manipular, alinhar e combinar dados rapidamente, entre outras funções. Para proporcionar esses recursos mais sofisticados ao Python, o Pandas introduz dois tipos de dados: DataFrame e Series. DataFrame representa os dados de planilha ou retangulares completos, enquanto Series corresponde a uma única coluna do DataFrame. Também podemos pensar em um DataFrame do Pandas como um dicionário ou uma coleção de objetos Series.\"\n",
    "(CHEN, D. Y. Análise de dados com Python e Pandas. Novatec, 2018)"
   ]
  },
  {
   "cell_type": "markdown",
   "metadata": {},
   "source": [
    "#### Vamos importar a biblioteca pandas:"
   ]
  },
  {
   "cell_type": "code",
   "execution_count": 4,
   "metadata": {},
   "outputs": [],
   "source": [
    "import pandas as pd"
   ]
  },
  {
   "cell_type": "markdown",
   "metadata": {},
   "source": [
    "Vou explicar rapidamente o comando acima: Mandamos importar a biblioteca \"pandas\" e damos a ela um apelido \"pd\". Você poderia ter escolhido o apelido que quisesse. Mas tornou-se convenção entre os cientistas de dados que usam essa biblioteca chamá-la assim.  "
   ]
  },
  {
   "cell_type": "markdown",
   "metadata": {},
   "source": [
    "#### Agora vamos usar essa ferramenta! \n",
    "\n",
    "A primeira coisa que faremos será ler o arquivo CSV. Já colocamos o arquivos CSV \"bolsafamilia.csv\" dentro do ambiente computacional que você está usando. "
   ]
  },
  {
   "cell_type": "markdown",
   "metadata": {},
   "source": [
    "#### Então, vamos ler e carregar seus dados:"
   ]
  },
  {
   "cell_type": "code",
   "execution_count": 7,
   "metadata": {},
   "outputs": [],
   "source": [
    "df = pd.read_csv('bolsafamilia.csv',sep=',',encoding='latin1')"
   ]
  },
  {
   "cell_type": "markdown",
   "metadata": {},
   "source": [
    "Calma! Vou explicar! O comando \"read_csv\" da ferramenta \"pandas\" que aqui nós apelidamos de \"pd\" lê um arquivo csv e devolve um objeto do tipo \"DataFrame\". \n",
    "\n",
    "\"DataFrame\" é como se fosse uma tabela.\n",
    "\n",
    "Nós então resolvemos armazenar esse objeto \"DataFrame\" numa nova variável que apelidados de \"df\"."
   ]
  },
  {
   "cell_type": "markdown",
   "metadata": {},
   "source": [
    "#### Para ver o conteúdo do objeto \"df\" criado acima, podemos simplesmente digitar \"df\" e mandar executar. "
   ]
  },
  {
   "cell_type": "code",
   "execution_count": 13,
   "metadata": {},
   "outputs": [
    {
     "data": {
      "text/html": [
       "<div>\n",
       "<style scoped>\n",
       "    .dataframe tbody tr th:only-of-type {\n",
       "        vertical-align: middle;\n",
       "    }\n",
       "\n",
       "    .dataframe tbody tr th {\n",
       "        vertical-align: top;\n",
       "    }\n",
       "\n",
       "    .dataframe thead th {\n",
       "        text-align: right;\n",
       "    }\n",
       "</style>\n",
       "<table border=\"1\" class=\"dataframe\">\n",
       "  <thead>\n",
       "    <tr style=\"text-align: right;\">\n",
       "      <th></th>\n",
       "      <th>id</th>\n",
       "      <th>dataReferencia</th>\n",
       "      <th>codIBGE</th>\n",
       "      <th>nomeIBGE</th>\n",
       "      <th>UFSigla</th>\n",
       "      <th>UFNome</th>\n",
       "      <th>valor</th>\n",
       "      <th>qtdBeneficiados</th>\n",
       "    </tr>\n",
       "  </thead>\n",
       "  <tbody>\n",
       "    <tr>\n",
       "      <th>0</th>\n",
       "      <td>75908792</td>\n",
       "      <td>01/01/2013</td>\n",
       "      <td>5300108</td>\n",
       "      <td>BRASÃLIA</td>\n",
       "      <td>DF</td>\n",
       "      <td>DISTRITO FEDERAL</td>\n",
       "      <td>11450358.0</td>\n",
       "      <td>63239</td>\n",
       "    </tr>\n",
       "    <tr>\n",
       "      <th>1</th>\n",
       "      <td>72208975</td>\n",
       "      <td>01/02/2013</td>\n",
       "      <td>5300108</td>\n",
       "      <td>BRASÃLIA</td>\n",
       "      <td>DF</td>\n",
       "      <td>DISTRITO FEDERAL</td>\n",
       "      <td>11034212.0</td>\n",
       "      <td>61121</td>\n",
       "    </tr>\n",
       "    <tr>\n",
       "      <th>2</th>\n",
       "      <td>63909551</td>\n",
       "      <td>01/03/2013</td>\n",
       "      <td>5300108</td>\n",
       "      <td>BRASÃLIA</td>\n",
       "      <td>DF</td>\n",
       "      <td>DISTRITO FEDERAL</td>\n",
       "      <td>11435012.0</td>\n",
       "      <td>61189</td>\n",
       "    </tr>\n",
       "    <tr>\n",
       "      <th>3</th>\n",
       "      <td>74709431</td>\n",
       "      <td>01/04/2013</td>\n",
       "      <td>5300108</td>\n",
       "      <td>BRASÃLIA</td>\n",
       "      <td>DF</td>\n",
       "      <td>DISTRITO FEDERAL</td>\n",
       "      <td>10762080.0</td>\n",
       "      <td>59505</td>\n",
       "    </tr>\n",
       "    <tr>\n",
       "      <th>4</th>\n",
       "      <td>73009570</td>\n",
       "      <td>01/05/2013</td>\n",
       "      <td>5300108</td>\n",
       "      <td>BRASÃLIA</td>\n",
       "      <td>DF</td>\n",
       "      <td>DISTRITO FEDERAL</td>\n",
       "      <td>11761262.0</td>\n",
       "      <td>67777</td>\n",
       "    </tr>\n",
       "    <tr>\n",
       "      <th>...</th>\n",
       "      <td>...</td>\n",
       "      <td>...</td>\n",
       "      <td>...</td>\n",
       "      <td>...</td>\n",
       "      <td>...</td>\n",
       "      <td>...</td>\n",
       "      <td>...</td>\n",
       "      <td>...</td>\n",
       "    </tr>\n",
       "    <tr>\n",
       "      <th>80</th>\n",
       "      <td>71010608</td>\n",
       "      <td>01/09/2019</td>\n",
       "      <td>5300108</td>\n",
       "      <td>BRASÃLIA</td>\n",
       "      <td>DF</td>\n",
       "      <td>DISTRITO FEDERAL</td>\n",
       "      <td>12459837.0</td>\n",
       "      <td>65270</td>\n",
       "    </tr>\n",
       "    <tr>\n",
       "      <th>81</th>\n",
       "      <td>73009437</td>\n",
       "      <td>01/10/2019</td>\n",
       "      <td>5300108</td>\n",
       "      <td>BRASÃLIA</td>\n",
       "      <td>DF</td>\n",
       "      <td>DISTRITO FEDERAL</td>\n",
       "      <td>12583058.0</td>\n",
       "      <td>65446</td>\n",
       "    </tr>\n",
       "    <tr>\n",
       "      <th>82</th>\n",
       "      <td>69210574</td>\n",
       "      <td>01/11/2019</td>\n",
       "      <td>5300108</td>\n",
       "      <td>BRASÃLIA</td>\n",
       "      <td>DF</td>\n",
       "      <td>DISTRITO FEDERAL</td>\n",
       "      <td>12110463.0</td>\n",
       "      <td>61517</td>\n",
       "    </tr>\n",
       "    <tr>\n",
       "      <th>83</th>\n",
       "      <td>66307873</td>\n",
       "      <td>01/12/2019</td>\n",
       "      <td>5300108</td>\n",
       "      <td>BRASÃLIA</td>\n",
       "      <td>DF</td>\n",
       "      <td>DISTRITO FEDERAL</td>\n",
       "      <td>12284381.0</td>\n",
       "      <td>62034</td>\n",
       "    </tr>\n",
       "    <tr>\n",
       "      <th>84</th>\n",
       "      <td>67007738</td>\n",
       "      <td>01/01/2020</td>\n",
       "      <td>5300108</td>\n",
       "      <td>BRASÃLIA</td>\n",
       "      <td>DF</td>\n",
       "      <td>DISTRITO FEDERAL</td>\n",
       "      <td>12109549.0</td>\n",
       "      <td>61776</td>\n",
       "    </tr>\n",
       "  </tbody>\n",
       "</table>\n",
       "<p>85 rows × 8 columns</p>\n",
       "</div>"
      ],
      "text/plain": [
       "          id dataReferencia  codIBGE   nomeIBGE UFSigla            UFNome  \\\n",
       "0   75908792     01/01/2013  5300108  BRASÃLIA      DF  DISTRITO FEDERAL   \n",
       "1   72208975     01/02/2013  5300108  BRASÃLIA      DF  DISTRITO FEDERAL   \n",
       "2   63909551     01/03/2013  5300108  BRASÃLIA      DF  DISTRITO FEDERAL   \n",
       "3   74709431     01/04/2013  5300108  BRASÃLIA      DF  DISTRITO FEDERAL   \n",
       "4   73009570     01/05/2013  5300108  BRASÃLIA      DF  DISTRITO FEDERAL   \n",
       "..       ...            ...      ...        ...     ...               ...   \n",
       "80  71010608     01/09/2019  5300108  BRASÃLIA      DF  DISTRITO FEDERAL   \n",
       "81  73009437     01/10/2019  5300108  BRASÃLIA      DF  DISTRITO FEDERAL   \n",
       "82  69210574     01/11/2019  5300108  BRASÃLIA      DF  DISTRITO FEDERAL   \n",
       "83  66307873     01/12/2019  5300108  BRASÃLIA      DF  DISTRITO FEDERAL   \n",
       "84  67007738     01/01/2020  5300108  BRASÃLIA      DF  DISTRITO FEDERAL   \n",
       "\n",
       "         valor  qtdBeneficiados  \n",
       "0   11450358.0            63239  \n",
       "1   11034212.0            61121  \n",
       "2   11435012.0            61189  \n",
       "3   10762080.0            59505  \n",
       "4   11761262.0            67777  \n",
       "..         ...              ...  \n",
       "80  12459837.0            65270  \n",
       "81  12583058.0            65446  \n",
       "82  12110463.0            61517  \n",
       "83  12284381.0            62034  \n",
       "84  12109549.0            61776  \n",
       "\n",
       "[85 rows x 8 columns]"
      ]
     },
     "execution_count": 13,
     "metadata": {},
     "output_type": "execute_result"
    }
   ],
   "source": [
    "df"
   ]
  },
  {
   "cell_type": "markdown",
   "metadata": {},
   "source": [
    "## Antes de continuar precisamos nos familiarizar um pouco mais com esse objeto \"DataFrame\" que contém os nossos dados. Então, sem perder tempo e sem medo, vamos aprender alguns comandos que podemos usar:"
   ]
  },
  {
   "cell_type": "code",
   "execution_count": 18,
   "metadata": {},
   "outputs": [
    {
     "data": {
      "text/plain": [
       "(85, 8)"
      ]
     },
     "execution_count": 18,
     "metadata": {},
     "output_type": "execute_result"
    }
   ],
   "source": [
    "df.shape"
   ]
  },
  {
   "cell_type": "markdown",
   "metadata": {},
   "source": [
    "#### O comando \"shape\" mostra o shape do DataFrame. Ele devolveu uma tupla (85,8). Essa tupla indica que o DateFrame \"df\" possui 85 linhas e 8 colunas."
   ]
  },
  {
   "cell_type": "code",
   "execution_count": 15,
   "metadata": {},
   "outputs": [
    {
     "data": {
      "text/plain": [
       "Index(['id', 'dataReferencia', 'codIBGE', 'nomeIBGE', 'UFSigla', 'UFNome',\n",
       "       'valor', 'qtdBeneficiados'],\n",
       "      dtype='object')"
      ]
     },
     "execution_count": 15,
     "metadata": {},
     "output_type": "execute_result"
    }
   ],
   "source": [
    "df.columns"
   ]
  },
  {
   "cell_type": "markdown",
   "metadata": {},
   "source": [
    "#### O comando \"columns\" nos entrega uma lista contendo as colunas do Dataframe. "
   ]
  },
  {
   "cell_type": "code",
   "execution_count": 20,
   "metadata": {},
   "outputs": [
    {
     "data": {
      "text/html": [
       "<div>\n",
       "<style scoped>\n",
       "    .dataframe tbody tr th:only-of-type {\n",
       "        vertical-align: middle;\n",
       "    }\n",
       "\n",
       "    .dataframe tbody tr th {\n",
       "        vertical-align: top;\n",
       "    }\n",
       "\n",
       "    .dataframe thead th {\n",
       "        text-align: right;\n",
       "    }\n",
       "</style>\n",
       "<table border=\"1\" class=\"dataframe\">\n",
       "  <thead>\n",
       "    <tr style=\"text-align: right;\">\n",
       "      <th></th>\n",
       "      <th>id</th>\n",
       "      <th>dataReferencia</th>\n",
       "      <th>codIBGE</th>\n",
       "      <th>nomeIBGE</th>\n",
       "      <th>UFSigla</th>\n",
       "      <th>UFNome</th>\n",
       "      <th>valor</th>\n",
       "      <th>qtdBeneficiados</th>\n",
       "    </tr>\n",
       "  </thead>\n",
       "  <tbody>\n",
       "    <tr>\n",
       "      <th>0</th>\n",
       "      <td>75908792</td>\n",
       "      <td>01/01/2013</td>\n",
       "      <td>5300108</td>\n",
       "      <td>BRASÃLIA</td>\n",
       "      <td>DF</td>\n",
       "      <td>DISTRITO FEDERAL</td>\n",
       "      <td>11450358.0</td>\n",
       "      <td>63239</td>\n",
       "    </tr>\n",
       "    <tr>\n",
       "      <th>1</th>\n",
       "      <td>72208975</td>\n",
       "      <td>01/02/2013</td>\n",
       "      <td>5300108</td>\n",
       "      <td>BRASÃLIA</td>\n",
       "      <td>DF</td>\n",
       "      <td>DISTRITO FEDERAL</td>\n",
       "      <td>11034212.0</td>\n",
       "      <td>61121</td>\n",
       "    </tr>\n",
       "    <tr>\n",
       "      <th>2</th>\n",
       "      <td>63909551</td>\n",
       "      <td>01/03/2013</td>\n",
       "      <td>5300108</td>\n",
       "      <td>BRASÃLIA</td>\n",
       "      <td>DF</td>\n",
       "      <td>DISTRITO FEDERAL</td>\n",
       "      <td>11435012.0</td>\n",
       "      <td>61189</td>\n",
       "    </tr>\n",
       "    <tr>\n",
       "      <th>3</th>\n",
       "      <td>74709431</td>\n",
       "      <td>01/04/2013</td>\n",
       "      <td>5300108</td>\n",
       "      <td>BRASÃLIA</td>\n",
       "      <td>DF</td>\n",
       "      <td>DISTRITO FEDERAL</td>\n",
       "      <td>10762080.0</td>\n",
       "      <td>59505</td>\n",
       "    </tr>\n",
       "    <tr>\n",
       "      <th>4</th>\n",
       "      <td>73009570</td>\n",
       "      <td>01/05/2013</td>\n",
       "      <td>5300108</td>\n",
       "      <td>BRASÃLIA</td>\n",
       "      <td>DF</td>\n",
       "      <td>DISTRITO FEDERAL</td>\n",
       "      <td>11761262.0</td>\n",
       "      <td>67777</td>\n",
       "    </tr>\n",
       "  </tbody>\n",
       "</table>\n",
       "</div>"
      ],
      "text/plain": [
       "         id dataReferencia  codIBGE   nomeIBGE UFSigla            UFNome  \\\n",
       "0  75908792     01/01/2013  5300108  BRASÃLIA      DF  DISTRITO FEDERAL   \n",
       "1  72208975     01/02/2013  5300108  BRASÃLIA      DF  DISTRITO FEDERAL   \n",
       "2  63909551     01/03/2013  5300108  BRASÃLIA      DF  DISTRITO FEDERAL   \n",
       "3  74709431     01/04/2013  5300108  BRASÃLIA      DF  DISTRITO FEDERAL   \n",
       "4  73009570     01/05/2013  5300108  BRASÃLIA      DF  DISTRITO FEDERAL   \n",
       "\n",
       "        valor  qtdBeneficiados  \n",
       "0  11450358.0            63239  \n",
       "1  11034212.0            61121  \n",
       "2  11435012.0            61189  \n",
       "3  10762080.0            59505  \n",
       "4  11761262.0            67777  "
      ]
     },
     "execution_count": 20,
     "metadata": {},
     "output_type": "execute_result"
    }
   ],
   "source": [
    "df.head()"
   ]
  },
  {
   "cell_type": "markdown",
   "metadata": {},
   "source": [
    "#### O comando \"head()\" mostra a \"cabeça\" da tabela, ou seja, ele vai mostrar as primeiras linhas da tabela."
   ]
  },
  {
   "cell_type": "code",
   "execution_count": 21,
   "metadata": {},
   "outputs": [
    {
     "data": {
      "text/html": [
       "<div>\n",
       "<style scoped>\n",
       "    .dataframe tbody tr th:only-of-type {\n",
       "        vertical-align: middle;\n",
       "    }\n",
       "\n",
       "    .dataframe tbody tr th {\n",
       "        vertical-align: top;\n",
       "    }\n",
       "\n",
       "    .dataframe thead th {\n",
       "        text-align: right;\n",
       "    }\n",
       "</style>\n",
       "<table border=\"1\" class=\"dataframe\">\n",
       "  <thead>\n",
       "    <tr style=\"text-align: right;\">\n",
       "      <th></th>\n",
       "      <th>id</th>\n",
       "      <th>dataReferencia</th>\n",
       "      <th>codIBGE</th>\n",
       "      <th>nomeIBGE</th>\n",
       "      <th>UFSigla</th>\n",
       "      <th>UFNome</th>\n",
       "      <th>valor</th>\n",
       "      <th>qtdBeneficiados</th>\n",
       "    </tr>\n",
       "  </thead>\n",
       "  <tbody>\n",
       "    <tr>\n",
       "      <th>80</th>\n",
       "      <td>71010608</td>\n",
       "      <td>01/09/2019</td>\n",
       "      <td>5300108</td>\n",
       "      <td>BRASÃLIA</td>\n",
       "      <td>DF</td>\n",
       "      <td>DISTRITO FEDERAL</td>\n",
       "      <td>12459837.0</td>\n",
       "      <td>65270</td>\n",
       "    </tr>\n",
       "    <tr>\n",
       "      <th>81</th>\n",
       "      <td>73009437</td>\n",
       "      <td>01/10/2019</td>\n",
       "      <td>5300108</td>\n",
       "      <td>BRASÃLIA</td>\n",
       "      <td>DF</td>\n",
       "      <td>DISTRITO FEDERAL</td>\n",
       "      <td>12583058.0</td>\n",
       "      <td>65446</td>\n",
       "    </tr>\n",
       "    <tr>\n",
       "      <th>82</th>\n",
       "      <td>69210574</td>\n",
       "      <td>01/11/2019</td>\n",
       "      <td>5300108</td>\n",
       "      <td>BRASÃLIA</td>\n",
       "      <td>DF</td>\n",
       "      <td>DISTRITO FEDERAL</td>\n",
       "      <td>12110463.0</td>\n",
       "      <td>61517</td>\n",
       "    </tr>\n",
       "    <tr>\n",
       "      <th>83</th>\n",
       "      <td>66307873</td>\n",
       "      <td>01/12/2019</td>\n",
       "      <td>5300108</td>\n",
       "      <td>BRASÃLIA</td>\n",
       "      <td>DF</td>\n",
       "      <td>DISTRITO FEDERAL</td>\n",
       "      <td>12284381.0</td>\n",
       "      <td>62034</td>\n",
       "    </tr>\n",
       "    <tr>\n",
       "      <th>84</th>\n",
       "      <td>67007738</td>\n",
       "      <td>01/01/2020</td>\n",
       "      <td>5300108</td>\n",
       "      <td>BRASÃLIA</td>\n",
       "      <td>DF</td>\n",
       "      <td>DISTRITO FEDERAL</td>\n",
       "      <td>12109549.0</td>\n",
       "      <td>61776</td>\n",
       "    </tr>\n",
       "  </tbody>\n",
       "</table>\n",
       "</div>"
      ],
      "text/plain": [
       "          id dataReferencia  codIBGE   nomeIBGE UFSigla            UFNome  \\\n",
       "80  71010608     01/09/2019  5300108  BRASÃLIA      DF  DISTRITO FEDERAL   \n",
       "81  73009437     01/10/2019  5300108  BRASÃLIA      DF  DISTRITO FEDERAL   \n",
       "82  69210574     01/11/2019  5300108  BRASÃLIA      DF  DISTRITO FEDERAL   \n",
       "83  66307873     01/12/2019  5300108  BRASÃLIA      DF  DISTRITO FEDERAL   \n",
       "84  67007738     01/01/2020  5300108  BRASÃLIA      DF  DISTRITO FEDERAL   \n",
       "\n",
       "         valor  qtdBeneficiados  \n",
       "80  12459837.0            65270  \n",
       "81  12583058.0            65446  \n",
       "82  12110463.0            61517  \n",
       "83  12284381.0            62034  \n",
       "84  12109549.0            61776  "
      ]
     },
     "execution_count": 21,
     "metadata": {},
     "output_type": "execute_result"
    }
   ],
   "source": [
    "df.tail()"
   ]
  },
  {
   "cell_type": "markdown",
   "metadata": {},
   "source": [
    "#### Já o comando \"tail()\" vai mostrar as últimas linhas...\n",
    "\n",
    "Olha só! A linha 84 trouxe o valor gasto com Bolsa Família no mês de janeiro de 2020. Foram 12.109.549 reais apenas no DF. Veja só, sem perceber, você já está fazendo Análise Exploratória nos Dados. É isso mesmo..."
   ]
  },
  {
   "cell_type": "code",
   "execution_count": null,
   "metadata": {},
   "outputs": [],
   "source": []
  }
 ],
 "metadata": {
  "kernelspec": {
   "display_name": "Python 3",
   "language": "python",
   "name": "python3"
  },
  "language_info": {
   "codemirror_mode": {
    "name": "ipython",
    "version": 3
   },
   "file_extension": ".py",
   "mimetype": "text/x-python",
   "name": "python",
   "nbconvert_exporter": "python",
   "pygments_lexer": "ipython3",
   "version": "3.7.3"
  }
 },
 "nbformat": 4,
 "nbformat_minor": 4
}
